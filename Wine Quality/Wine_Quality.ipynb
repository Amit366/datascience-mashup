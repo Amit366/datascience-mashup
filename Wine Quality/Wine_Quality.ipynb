{
  "nbformat": 4,
  "nbformat_minor": 0,
  "metadata": {
    "colab": {
      "name": "Wine Quality.ipynb",
      "provenance": []
    },
    "kernelspec": {
      "name": "python3",
      "display_name": "Python 3"
    }
  },
  "cells": [
    {
      "cell_type": "code",
      "metadata": {
        "colab": {
          "base_uri": "https://localhost:8080/"
        },
        "id": "XV_NYqhIvAP8",
        "outputId": "56331578-174a-4a05-e351-261eaaba2a81"
      },
      "source": [
        "!wget https://archive.ics.uci.edu/ml/machine-learning-databases/wine-quality/winequality-red.csv"
      ],
      "execution_count": 1,
      "outputs": [
        {
          "output_type": "stream",
          "text": [
            "--2021-01-27 12:06:12--  https://archive.ics.uci.edu/ml/machine-learning-databases/wine-quality/winequality-red.csv\n",
            "Resolving archive.ics.uci.edu (archive.ics.uci.edu)... 128.195.10.252\n",
            "Connecting to archive.ics.uci.edu (archive.ics.uci.edu)|128.195.10.252|:443... connected.\n",
            "HTTP request sent, awaiting response... 200 OK\n",
            "Length: 84199 (82K) [application/x-httpd-php]\n",
            "Saving to: ‘winequality-red.csv’\n",
            "\n",
            "winequality-red.csv 100%[===================>]  82.23K   273KB/s    in 0.3s    \n",
            "\n",
            "2021-01-27 12:06:13 (273 KB/s) - ‘winequality-red.csv’ saved [84199/84199]\n",
            "\n"
          ],
          "name": "stdout"
        }
      ]
    },
    {
      "cell_type": "code",
      "metadata": {
        "id": "weBWnLW1vKDn"
      },
      "source": [
        "import pandas as pd"
      ],
      "execution_count": 59,
      "outputs": []
    },
    {
      "cell_type": "code",
      "metadata": {
        "colab": {
          "base_uri": "https://localhost:8080/",
          "height": 453
        },
        "id": "qutn3rTjvcKb",
        "outputId": "3cecec72-a034-4a5b-a96d-25af739deb8f"
      },
      "source": [
        "data=pd.read_csv('/content/winequality-red.csv',sep=';')\n",
        "data"
      ],
      "execution_count": 60,
      "outputs": [
        {
          "output_type": "execute_result",
          "data": {
            "text/html": [
              "<div>\n",
              "<style scoped>\n",
              "    .dataframe tbody tr th:only-of-type {\n",
              "        vertical-align: middle;\n",
              "    }\n",
              "\n",
              "    .dataframe tbody tr th {\n",
              "        vertical-align: top;\n",
              "    }\n",
              "\n",
              "    .dataframe thead th {\n",
              "        text-align: right;\n",
              "    }\n",
              "</style>\n",
              "<table border=\"1\" class=\"dataframe\">\n",
              "  <thead>\n",
              "    <tr style=\"text-align: right;\">\n",
              "      <th></th>\n",
              "      <th>fixed acidity</th>\n",
              "      <th>volatile acidity</th>\n",
              "      <th>citric acid</th>\n",
              "      <th>residual sugar</th>\n",
              "      <th>chlorides</th>\n",
              "      <th>free sulfur dioxide</th>\n",
              "      <th>total sulfur dioxide</th>\n",
              "      <th>density</th>\n",
              "      <th>pH</th>\n",
              "      <th>sulphates</th>\n",
              "      <th>alcohol</th>\n",
              "      <th>quality</th>\n",
              "    </tr>\n",
              "  </thead>\n",
              "  <tbody>\n",
              "    <tr>\n",
              "      <th>0</th>\n",
              "      <td>7.4</td>\n",
              "      <td>0.700</td>\n",
              "      <td>0.00</td>\n",
              "      <td>1.9</td>\n",
              "      <td>0.076</td>\n",
              "      <td>11.0</td>\n",
              "      <td>34.0</td>\n",
              "      <td>0.99780</td>\n",
              "      <td>3.51</td>\n",
              "      <td>0.56</td>\n",
              "      <td>9.4</td>\n",
              "      <td>5</td>\n",
              "    </tr>\n",
              "    <tr>\n",
              "      <th>1</th>\n",
              "      <td>7.8</td>\n",
              "      <td>0.880</td>\n",
              "      <td>0.00</td>\n",
              "      <td>2.6</td>\n",
              "      <td>0.098</td>\n",
              "      <td>25.0</td>\n",
              "      <td>67.0</td>\n",
              "      <td>0.99680</td>\n",
              "      <td>3.20</td>\n",
              "      <td>0.68</td>\n",
              "      <td>9.8</td>\n",
              "      <td>5</td>\n",
              "    </tr>\n",
              "    <tr>\n",
              "      <th>2</th>\n",
              "      <td>7.8</td>\n",
              "      <td>0.760</td>\n",
              "      <td>0.04</td>\n",
              "      <td>2.3</td>\n",
              "      <td>0.092</td>\n",
              "      <td>15.0</td>\n",
              "      <td>54.0</td>\n",
              "      <td>0.99700</td>\n",
              "      <td>3.26</td>\n",
              "      <td>0.65</td>\n",
              "      <td>9.8</td>\n",
              "      <td>5</td>\n",
              "    </tr>\n",
              "    <tr>\n",
              "      <th>3</th>\n",
              "      <td>11.2</td>\n",
              "      <td>0.280</td>\n",
              "      <td>0.56</td>\n",
              "      <td>1.9</td>\n",
              "      <td>0.075</td>\n",
              "      <td>17.0</td>\n",
              "      <td>60.0</td>\n",
              "      <td>0.99800</td>\n",
              "      <td>3.16</td>\n",
              "      <td>0.58</td>\n",
              "      <td>9.8</td>\n",
              "      <td>6</td>\n",
              "    </tr>\n",
              "    <tr>\n",
              "      <th>4</th>\n",
              "      <td>7.4</td>\n",
              "      <td>0.700</td>\n",
              "      <td>0.00</td>\n",
              "      <td>1.9</td>\n",
              "      <td>0.076</td>\n",
              "      <td>11.0</td>\n",
              "      <td>34.0</td>\n",
              "      <td>0.99780</td>\n",
              "      <td>3.51</td>\n",
              "      <td>0.56</td>\n",
              "      <td>9.4</td>\n",
              "      <td>5</td>\n",
              "    </tr>\n",
              "    <tr>\n",
              "      <th>...</th>\n",
              "      <td>...</td>\n",
              "      <td>...</td>\n",
              "      <td>...</td>\n",
              "      <td>...</td>\n",
              "      <td>...</td>\n",
              "      <td>...</td>\n",
              "      <td>...</td>\n",
              "      <td>...</td>\n",
              "      <td>...</td>\n",
              "      <td>...</td>\n",
              "      <td>...</td>\n",
              "      <td>...</td>\n",
              "    </tr>\n",
              "    <tr>\n",
              "      <th>1594</th>\n",
              "      <td>6.2</td>\n",
              "      <td>0.600</td>\n",
              "      <td>0.08</td>\n",
              "      <td>2.0</td>\n",
              "      <td>0.090</td>\n",
              "      <td>32.0</td>\n",
              "      <td>44.0</td>\n",
              "      <td>0.99490</td>\n",
              "      <td>3.45</td>\n",
              "      <td>0.58</td>\n",
              "      <td>10.5</td>\n",
              "      <td>5</td>\n",
              "    </tr>\n",
              "    <tr>\n",
              "      <th>1595</th>\n",
              "      <td>5.9</td>\n",
              "      <td>0.550</td>\n",
              "      <td>0.10</td>\n",
              "      <td>2.2</td>\n",
              "      <td>0.062</td>\n",
              "      <td>39.0</td>\n",
              "      <td>51.0</td>\n",
              "      <td>0.99512</td>\n",
              "      <td>3.52</td>\n",
              "      <td>0.76</td>\n",
              "      <td>11.2</td>\n",
              "      <td>6</td>\n",
              "    </tr>\n",
              "    <tr>\n",
              "      <th>1596</th>\n",
              "      <td>6.3</td>\n",
              "      <td>0.510</td>\n",
              "      <td>0.13</td>\n",
              "      <td>2.3</td>\n",
              "      <td>0.076</td>\n",
              "      <td>29.0</td>\n",
              "      <td>40.0</td>\n",
              "      <td>0.99574</td>\n",
              "      <td>3.42</td>\n",
              "      <td>0.75</td>\n",
              "      <td>11.0</td>\n",
              "      <td>6</td>\n",
              "    </tr>\n",
              "    <tr>\n",
              "      <th>1597</th>\n",
              "      <td>5.9</td>\n",
              "      <td>0.645</td>\n",
              "      <td>0.12</td>\n",
              "      <td>2.0</td>\n",
              "      <td>0.075</td>\n",
              "      <td>32.0</td>\n",
              "      <td>44.0</td>\n",
              "      <td>0.99547</td>\n",
              "      <td>3.57</td>\n",
              "      <td>0.71</td>\n",
              "      <td>10.2</td>\n",
              "      <td>5</td>\n",
              "    </tr>\n",
              "    <tr>\n",
              "      <th>1598</th>\n",
              "      <td>6.0</td>\n",
              "      <td>0.310</td>\n",
              "      <td>0.47</td>\n",
              "      <td>3.6</td>\n",
              "      <td>0.067</td>\n",
              "      <td>18.0</td>\n",
              "      <td>42.0</td>\n",
              "      <td>0.99549</td>\n",
              "      <td>3.39</td>\n",
              "      <td>0.66</td>\n",
              "      <td>11.0</td>\n",
              "      <td>6</td>\n",
              "    </tr>\n",
              "  </tbody>\n",
              "</table>\n",
              "<p>1599 rows × 12 columns</p>\n",
              "</div>"
            ],
            "text/plain": [
              "      fixed acidity  volatile acidity  citric acid  ...  sulphates  alcohol  quality\n",
              "0               7.4             0.700         0.00  ...       0.56      9.4        5\n",
              "1               7.8             0.880         0.00  ...       0.68      9.8        5\n",
              "2               7.8             0.760         0.04  ...       0.65      9.8        5\n",
              "3              11.2             0.280         0.56  ...       0.58      9.8        6\n",
              "4               7.4             0.700         0.00  ...       0.56      9.4        5\n",
              "...             ...               ...          ...  ...        ...      ...      ...\n",
              "1594            6.2             0.600         0.08  ...       0.58     10.5        5\n",
              "1595            5.9             0.550         0.10  ...       0.76     11.2        6\n",
              "1596            6.3             0.510         0.13  ...       0.75     11.0        6\n",
              "1597            5.9             0.645         0.12  ...       0.71     10.2        5\n",
              "1598            6.0             0.310         0.47  ...       0.66     11.0        6\n",
              "\n",
              "[1599 rows x 12 columns]"
            ]
          },
          "metadata": {
            "tags": []
          },
          "execution_count": 60
        }
      ]
    },
    {
      "cell_type": "code",
      "metadata": {
        "id": "yJKuoB_dxde_"
      },
      "source": [
        "features = data.columns\n",
        "features=list(features)"
      ],
      "execution_count": 61,
      "outputs": []
    },
    {
      "cell_type": "code",
      "metadata": {
        "id": "9B1oITvDveKl"
      },
      "source": [
        "feat_data=data[features]"
      ],
      "execution_count": 62,
      "outputs": []
    },
    {
      "cell_type": "code",
      "metadata": {
        "id": "T0rKZDjZwG-X"
      },
      "source": [
        "from xgboost import XGBClassifier\n",
        "from sklearn. model_selection import train_test_split\n",
        "\n",
        "from sklearn.ensemble import AdaBoostClassifier,BaggingClassifier,RandomForestClassifier,ExtraTreesClassifier\n",
        "from sklearn.naive_bayes import GaussianNB\n",
        "from sklearn.linear_model import LogisticRegression\n",
        "from sklearn.neighbors import KNeighborsClassifier\n",
        "from sklearn.tree import DecisionTreeClassifier\n",
        "from sklearn.svm import SVC\n",
        "\n",
        "from sklearn.metrics import accuracy_score"
      ],
      "execution_count": 63,
      "outputs": []
    },
    {
      "cell_type": "code",
      "metadata": {
        "id": "Zok1Illpv_5Q"
      },
      "source": [
        "labels=feat_data.pop('quality')\n",
        "X_train,X_test,y_train,y_test=train_test_split(data,labels,test_size=0.2,random_state=42)"
      ],
      "execution_count": 64,
      "outputs": []
    },
    {
      "cell_type": "code",
      "metadata": {
        "colab": {
          "base_uri": "https://localhost:8080/"
        },
        "id": "HdOgebMB2r3P",
        "outputId": "704490c5-c41f-4818-bfb1-4cfeeef48902"
      },
      "source": [
        "KNN=KNeighborsClassifier()\n",
        "KNN.fit(X_train,y_train)\n",
        "pred=KNN.predict(X_test)\n",
        "\n",
        "print(\"KNeighborsClassifier accuracy is :{}\".format(accuracy_score(y_test,pred)))"
      ],
      "execution_count": 69,
      "outputs": [
        {
          "output_type": "stream",
          "text": [
            "KNeighborsClassifier accuracy is :0.58125\n"
          ],
          "name": "stdout"
        }
      ]
    },
    {
      "cell_type": "code",
      "metadata": {
        "colab": {
          "base_uri": "https://localhost:8080/"
        },
        "id": "S9FxV8Ni2xdE",
        "outputId": "769a59dc-b1a5-4c41-e22b-ff5b73292a40"
      },
      "source": [
        "Bagging=BaggingClassifier(n_estimators=100)\n",
        "Bagging.fit(X_train,y_train)\n",
        "pred=Bagging.predict(X_test)\n",
        "\n",
        "print(\"BaggingClassifier accuracy is :{}\".format(accuracy_score(y_test,pred)))"
      ],
      "execution_count": 85,
      "outputs": [
        {
          "output_type": "stream",
          "text": [
            "BaggingClassifier accuracy is :1.0\n"
          ],
          "name": "stdout"
        }
      ]
    },
    {
      "cell_type": "code",
      "metadata": {
        "colab": {
          "base_uri": "https://localhost:8080/"
        },
        "id": "mwuCywWOwCcu",
        "outputId": "64aefe9b-10dd-444a-8645-3d36736d206c"
      },
      "source": [
        "svm=SVC(gamma='scale', probability=True)\n",
        "svm.fit(X_train,y_train)\n",
        "svm_pred=svm.predict(X_test)\n",
        "\n",
        "print(\"SVM accuracy is :{}\".format(accuracy_score(y_test,svm_pred)))"
      ],
      "execution_count": 70,
      "outputs": [
        {
          "output_type": "stream",
          "text": [
            "SVM accuracy is :0.5375\n"
          ],
          "name": "stdout"
        }
      ]
    },
    {
      "cell_type": "code",
      "metadata": {
        "colab": {
          "base_uri": "https://localhost:8080/"
        },
        "id": "XpXdKAkKwT8J",
        "outputId": "ae9e298d-f6ba-4556-d39c-32d896c75891"
      },
      "source": [
        "random_f=RandomForestClassifier(n_estimators=150)\n",
        "random_f.fit(X_train,y_train)\n",
        "random_f_pred=random_f.predict(X_test)\n",
        "\n",
        "print(\"random forest accuracy is :{}\".format(accuracy_score(y_test,random_f_pred)))"
      ],
      "execution_count": 86,
      "outputs": [
        {
          "output_type": "stream",
          "text": [
            "random forest accuracy is :0.98125\n"
          ],
          "name": "stdout"
        }
      ]
    },
    {
      "cell_type": "code",
      "metadata": {
        "colab": {
          "base_uri": "https://localhost:8080/"
        },
        "id": "epgM5WBkwXbg",
        "outputId": "32bd3cc5-471b-45d6-b7c9-a36126780361"
      },
      "source": [
        "log=LogisticRegression(solver='liblinear')\n",
        "log.fit(X_train,y_train)\n",
        "pred=log.predict(X_test)\n",
        "\n",
        "print(\"LogisticRegression accuracy is :{}\".format(accuracy_score(y_test,pred)))"
      ],
      "execution_count": 74,
      "outputs": [
        {
          "output_type": "stream",
          "text": [
            "LogisticRegression accuracy is :0.896875\n"
          ],
          "name": "stdout"
        }
      ]
    },
    {
      "cell_type": "code",
      "metadata": {
        "colab": {
          "base_uri": "https://localhost:8080/"
        },
        "id": "BAqKAkN3wZPE",
        "outputId": "bff20bfa-4c69-4f82-aeba-0a6908bd2aa9"
      },
      "source": [
        "Decision=DecisionTreeClassifier()\n",
        "Decision.fit(X_train,y_train)\n",
        "pred=Decision.predict(X_test)\n",
        "\n",
        "print(\"DecisionTreeClassifier accuracy is :{}\".format(accuracy_score(y_test,pred)))"
      ],
      "execution_count": 76,
      "outputs": [
        {
          "output_type": "stream",
          "text": [
            "DecisionTreeClassifier accuracy is :1.0\n"
          ],
          "name": "stdout"
        }
      ]
    },
    {
      "cell_type": "code",
      "metadata": {
        "colab": {
          "base_uri": "https://localhost:8080/"
        },
        "id": "OdMke6NswbIy",
        "outputId": "a8581908-bcb1-4d04-d938-ccd296cfc9e5"
      },
      "source": [
        "guassian=GaussianNB()\n",
        "guassian.fit(X_train,y_train)\n",
        "pred=guassian.predict(X_test)\n",
        "\n",
        "print(\"GaussianNB accuracy is :{}\".format(accuracy_score(y_test,pred)))"
      ],
      "execution_count": 77,
      "outputs": [
        {
          "output_type": "stream",
          "text": [
            "GaussianNB accuracy is :1.0\n"
          ],
          "name": "stdout"
        }
      ]
    },
    {
      "cell_type": "code",
      "metadata": {
        "colab": {
          "base_uri": "https://localhost:8080/"
        },
        "id": "XXJARj66we1I",
        "outputId": "d7ceac3f-8937-431f-869d-5b1cc8a8e3ed"
      },
      "source": [
        "Ada=AdaBoostClassifier()\n",
        "Ada.fit(X_train,y_train)\n",
        "pred=Ada.predict(X_test)\n",
        "\n",
        "print(\"AdaBoostClassifier accuracy is :{}\".format(accuracy_score(y_test,pred)))"
      ],
      "execution_count": 78,
      "outputs": [
        {
          "output_type": "stream",
          "text": [
            "AdaBoostClassifier accuracy is :0.8375\n"
          ],
          "name": "stdout"
        }
      ]
    },
    {
      "cell_type": "code",
      "metadata": {
        "colab": {
          "base_uri": "https://localhost:8080/"
        },
        "id": "g7e39w9JwiQR",
        "outputId": "cc9234be-45f4-42e7-f271-528d89ac690d"
      },
      "source": [
        "Ex_Tree=ExtraTreesClassifier(n_estimators=100)\n",
        "Ex_Tree.fit(X_train,y_train)\n",
        "pred=Ex_Tree.predict(X_test)\n",
        "\n",
        "print(\"ExtraTreesClassifier accuracy is :{}\".format(accuracy_score(y_test,pred)))"
      ],
      "execution_count": 81,
      "outputs": [
        {
          "output_type": "stream",
          "text": [
            "ExtraTreesClassifier accuracy is :0.996875\n"
          ],
          "name": "stdout"
        }
      ]
    },
    {
      "cell_type": "code",
      "metadata": {
        "colab": {
          "base_uri": "https://localhost:8080/"
        },
        "id": "rks_yqtUwlji",
        "outputId": "c4d193e1-a9a8-44de-cc49-f115bee9937e"
      },
      "source": [
        "XGB=XGBClassifier()\n",
        "XGB.fit(X_train,y_train)\n",
        "pred=XGB.predict(X_test)\n",
        "\n",
        "print(\"XGBClassifier accuracy is :{}\".format(accuracy_score(y_test,pred)))"
      ],
      "execution_count": 82,
      "outputs": [
        {
          "output_type": "stream",
          "text": [
            "XGBClassifier accuracy is :1.0\n"
          ],
          "name": "stdout"
        }
      ]
    },
    {
      "cell_type": "code",
      "metadata": {
        "id": "eDwTTqTMwngx"
      },
      "source": [
        "def get_models():\n",
        "    models = list()\n",
        "    models.append(KNeighborsClassifier())\n",
        "    models.append(BaggingClassifier(n_estimators=10))\n",
        "    models.append(SVC(gamma='scale', probability=True))\n",
        "    models.append(RandomForestClassifier(n_estimators=10))\n",
        "    models.append(LogisticRegression(solver='liblinear'))\n",
        "    models.append(DecisionTreeClassifier())\n",
        "    models.append(GaussianNB())\n",
        "    models.append(AdaBoostClassifier())\n",
        "    models.append(ExtraTreesClassifier(n_estimators=10))\n",
        "    models.append(XGBClassifier())\n",
        "    return models"
      ],
      "execution_count": 91,
      "outputs": []
    },
    {
      "cell_type": "code",
      "metadata": {
        "colab": {
          "base_uri": "https://localhost:8080/"
        },
        "id": "cnSqSIeCwpUe",
        "outputId": "026210ae-d27e-423b-c527-b844b06724ae"
      },
      "source": [
        "!pip install mlens"
      ],
      "execution_count": 92,
      "outputs": [
        {
          "output_type": "stream",
          "text": [
            "Requirement already satisfied: mlens in /usr/local/lib/python3.6/dist-packages (0.2.3)\n",
            "Requirement already satisfied: numpy>=1.11 in /usr/local/lib/python3.6/dist-packages (from mlens) (1.19.5)\n",
            "Requirement already satisfied: scipy>=0.17 in /usr/local/lib/python3.6/dist-packages (from mlens) (1.4.1)\n"
          ],
          "name": "stdout"
        }
      ]
    },
    {
      "cell_type": "code",
      "metadata": {
        "id": "D_PPVrmLwrbp"
      },
      "source": [
        "import mlens\n",
        "from mlens.ensemble import SuperLearner\n",
        "def get_super_learner(X):\n",
        "\tensemble = SuperLearner(scorer=accuracy_score, folds=10, shuffle=True, sample_size=len(X))\n",
        "\tmodels = get_models()\n",
        "\tensemble.add(models)\n",
        "\tensemble.add_meta(LogisticRegression(solver='liblinear'))\n",
        "\treturn ensemble"
      ],
      "execution_count": 99,
      "outputs": []
    },
    {
      "cell_type": "code",
      "metadata": {
        "id": "Wq8bQTPOwydo"
      },
      "source": [
        "ensemble = get_super_learner(X_train)"
      ],
      "execution_count": 100,
      "outputs": []
    },
    {
      "cell_type": "code",
      "metadata": {
        "colab": {
          "base_uri": "https://localhost:8080/"
        },
        "id": "-zLUSXuxw0tj",
        "outputId": "c2b80b48-50b9-4940-e7e0-67b206b7efdc"
      },
      "source": [
        "ensemble.fit(X_train.values,y_train.values)\n",
        "print(ensemble.data)\n",
        "\n",
        "yhat = ensemble.predict(X_test.values)\n",
        "\n",
        "print(\"*\"* 50)\n",
        "score=accuracy_score(y_test,yhat)\n",
        "print(\"Super Learner accuracy is :{}\".format(score))"
      ],
      "execution_count": 101,
      "outputs": [
        {
          "output_type": "stream",
          "text": [
            "/usr/local/lib/python3.6/dist-packages/mlens/parallel/_base_functions.py:313: ParameterChangeWarning: Parameter value ('multi:softprob') has changed since model was fitted ('binary:logistic').\n",
            "  (lpar, rpar), ParameterChangeWarning)\n",
            "/usr/local/lib/python3.6/dist-packages/mlens/parallel/_base_functions.py:313: ParameterChangeWarning: Parameter value ('multi:softprob') has changed since model was fitted ('binary:logistic').\n",
            "  (lpar, rpar), ParameterChangeWarning)\n"
          ],
          "name": "stderr"
        },
        {
          "output_type": "stream",
          "text": [
            "                                   score-m  score-s  ft-m  ft-s  pt-m  pt-s\n",
            "layer-1  adaboostclassifier           0.84     0.03  0.29  0.01  0.03  0.00\n",
            "layer-1  baggingclassifier            1.00     0.00  0.05  0.00  0.00  0.00\n",
            "layer-1  decisiontreeclassifier       1.00     0.00  0.00  0.00  0.00  0.00\n",
            "layer-1  extratreesclassifier         0.99     0.01  0.03  0.01  0.00  0.00\n",
            "layer-1  gaussiannb                   1.00     0.00  0.00  0.00  0.00  0.00\n",
            "layer-1  kneighborsclassifier         0.59     0.03  0.00  0.00  0.02  0.00\n",
            "layer-1  logisticregression           0.89     0.03  0.05  0.00  0.00  0.00\n",
            "layer-1  randomforestclassifier       0.98     0.01  0.05  0.00  0.00  0.00\n",
            "layer-1  svc                          0.53     0.05  0.65  0.01  0.01  0.00\n",
            "layer-1  xgbclassifier                1.00     0.00  0.43  0.01  0.00  0.00\n",
            "\n",
            "**************************************************\n",
            "Super Learner accuracy is :0.978125\n"
          ],
          "name": "stdout"
        }
      ]
    }
  ]
}
