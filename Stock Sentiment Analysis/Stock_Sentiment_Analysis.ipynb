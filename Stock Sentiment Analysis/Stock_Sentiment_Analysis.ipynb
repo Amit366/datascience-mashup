{
  "nbformat": 4,
  "nbformat_minor": 0,
  "metadata": {
    "colab": {
      "name": "Stock_Sentiment_Analysis.ipynb",
      "provenance": []
    },
    "kernelspec": {
      "name": "python3",
      "display_name": "Python 3"
    }
  },
  "cells": [
    {
      "cell_type": "code",
      "metadata": {
        "colab": {
          "base_uri": "https://localhost:8080/",
          "height": 557
        },
        "id": "biA9Jty4VzaZ",
        "outputId": "3a6f9c08-c91b-4e13-b6b7-198fa1a68256"
      },
      "source": [
        "!pip install yfinance"
      ],
      "execution_count": 2,
      "outputs": [
        {
          "output_type": "stream",
          "text": [
            "Collecting yfinance\n",
            "  Downloading https://files.pythonhosted.org/packages/7a/e8/b9d7104d3a4bf39924799067592d9e59119fcfc900a425a12e80a3123ec8/yfinance-0.1.55.tar.gz\n",
            "Requirement already satisfied: pandas>=0.24 in /usr/local/lib/python3.6/dist-packages (from yfinance) (1.1.5)\n",
            "Requirement already satisfied: numpy>=1.15 in /usr/local/lib/python3.6/dist-packages (from yfinance) (1.19.5)\n",
            "Requirement already satisfied: requests>=2.20 in /usr/local/lib/python3.6/dist-packages (from yfinance) (2.23.0)\n",
            "Requirement already satisfied: multitasking>=0.0.7 in /usr/local/lib/python3.6/dist-packages (from yfinance) (0.0.9)\n",
            "Collecting lxml>=4.5.1\n",
            "\u001b[?25l  Downloading https://files.pythonhosted.org/packages/bd/78/56a7c88a57d0d14945472535d0df9fb4bbad7d34ede658ec7961635c790e/lxml-4.6.2-cp36-cp36m-manylinux1_x86_64.whl (5.5MB)\n",
            "\u001b[K     |████████████████████████████████| 5.5MB 12.5MB/s \n",
            "\u001b[?25hRequirement already satisfied: python-dateutil>=2.7.3 in /usr/local/lib/python3.6/dist-packages (from pandas>=0.24->yfinance) (2.8.1)\n",
            "Requirement already satisfied: pytz>=2017.2 in /usr/local/lib/python3.6/dist-packages (from pandas>=0.24->yfinance) (2018.9)\n",
            "Requirement already satisfied: chardet<4,>=3.0.2 in /usr/local/lib/python3.6/dist-packages (from requests>=2.20->yfinance) (3.0.4)\n",
            "Requirement already satisfied: certifi>=2017.4.17 in /usr/local/lib/python3.6/dist-packages (from requests>=2.20->yfinance) (2020.12.5)\n",
            "Requirement already satisfied: urllib3!=1.25.0,!=1.25.1,<1.26,>=1.21.1 in /usr/local/lib/python3.6/dist-packages (from requests>=2.20->yfinance) (1.24.3)\n",
            "Requirement already satisfied: idna<3,>=2.5 in /usr/local/lib/python3.6/dist-packages (from requests>=2.20->yfinance) (2.10)\n",
            "Requirement already satisfied: six>=1.5 in /usr/local/lib/python3.6/dist-packages (from python-dateutil>=2.7.3->pandas>=0.24->yfinance) (1.15.0)\n",
            "Building wheels for collected packages: yfinance\n",
            "  Building wheel for yfinance (setup.py) ... \u001b[?25l\u001b[?25hdone\n",
            "  Created wheel for yfinance: filename=yfinance-0.1.55-py2.py3-none-any.whl size=22616 sha256=272490ca3a755b4e8be142cc744598d89982ed2190cad9bf92fd0d16c1db8ffd\n",
            "  Stored in directory: /root/.cache/pip/wheels/04/98/cc/2702a4242d60bdc14f48b4557c427ded1fe92aedf257d4565c\n",
            "Successfully built yfinance\n",
            "Installing collected packages: lxml, yfinance\n",
            "  Found existing installation: lxml 4.2.6\n",
            "    Uninstalling lxml-4.2.6:\n",
            "      Successfully uninstalled lxml-4.2.6\n",
            "Successfully installed lxml-4.6.2 yfinance-0.1.55\n"
          ],
          "name": "stdout"
        },
        {
          "output_type": "display_data",
          "data": {
            "application/vnd.colab-display-data+json": {
              "pip_warning": {
                "packages": [
                  "lxml"
                ]
              }
            }
          },
          "metadata": {
            "tags": []
          }
        }
      ]
    },
    {
      "cell_type": "code",
      "metadata": {
        "id": "rDhDtq1YVDeU"
      },
      "source": [
        "from urllib.request import Request, urlopen\r\n",
        "from bs4 import BeautifulSoup\r\n",
        "from nltk.sentiment.vader import SentimentIntensityAnalyzer\r\n",
        "import pandas as pd\r\n",
        "import matplotlib.pyplot as plt\r\n",
        "import yfinance as yf\r\n",
        "import datetime\r\n",
        "import pandas_datareader as pdr"
      ],
      "execution_count": 3,
      "outputs": []
    },
    {
      "cell_type": "code",
      "metadata": {
        "id": "Tazmh6ZxVtGZ"
      },
      "source": [
        "#Scraping data\r\n",
        "finviz_url=\"https://finviz.com/quote.ashx?t=\"\r\n",
        "tickers=['TSLA','GOOGL','AMZN']\r\n",
        "news_tables={}"
      ],
      "execution_count": 5,
      "outputs": []
    },
    {
      "cell_type": "code",
      "metadata": {
        "id": "ezeJpHmMV_1F"
      },
      "source": [
        "for ticker in tickers:\r\n",
        "    url=finviz_url+ticker\r\n",
        "\r\n",
        "    req= Request(url=url, headers={'user-agent':'my-app'})\r\n",
        "    response=urlopen(req)\r\n",
        "\r\n",
        "    html= BeautifulSoup(response,'html')\r\n",
        "\r\n",
        "    news_table=html.find(id='news-table')\r\n",
        "    news_tables[ticker]=news_table"
      ],
      "execution_count": 6,
      "outputs": []
    },
    {
      "cell_type": "code",
      "metadata": {
        "id": "-856aa2tWFIB"
      },
      "source": [
        "#parsing data\r\n",
        "parsed_data=[]\r\n",
        "for ticker, news_table in news_tables.items():\r\n",
        "\r\n",
        "    for row in news_table.findAll('tr'):\r\n",
        "\r\n",
        "        title=row.a.get_text()\r\n",
        "\r\n",
        "        time_data=row.td.text.split(' ')\r\n",
        "        if len(time_data)==1:\r\n",
        "            time=time_data[0]\r\n",
        "        else:\r\n",
        "            date=time_data[0]\r\n",
        "            time=time_data[1]\r\n",
        "\r\n",
        "        parsed_data.append([ticker, date, time,title])"
      ],
      "execution_count": 7,
      "outputs": []
    },
    {
      "cell_type": "code",
      "metadata": {
        "colab": {
          "base_uri": "https://localhost:8080/"
        },
        "id": "BJmnfB-5WQEX",
        "outputId": "2eede6f4-d30a-407a-f36f-188d3d40c607"
      },
      "source": [
        "!pip install nltk"
      ],
      "execution_count": 9,
      "outputs": [
        {
          "output_type": "stream",
          "text": [
            "Requirement already satisfied: nltk in /usr/local/lib/python3.6/dist-packages (3.2.5)\n",
            "Requirement already satisfied: six in /usr/local/lib/python3.6/dist-packages (from nltk) (1.15.0)\n"
          ],
          "name": "stdout"
        }
      ]
    },
    {
      "cell_type": "code",
      "metadata": {
        "colab": {
          "base_uri": "https://localhost:8080/"
        },
        "id": "bkGvP3riW9f5",
        "outputId": "fccab6fc-ede9-49e3-aef8-6adea076055f"
      },
      "source": [
        "import nltk\r\n",
        "nltk.download('vader_lexicon')"
      ],
      "execution_count": 11,
      "outputs": [
        {
          "output_type": "stream",
          "text": [
            "[nltk_data] Downloading package vader_lexicon to /root/nltk_data...\n"
          ],
          "name": "stdout"
        },
        {
          "output_type": "execute_result",
          "data": {
            "text/plain": [
              "True"
            ]
          },
          "metadata": {
            "tags": []
          },
          "execution_count": 11
        }
      ]
    },
    {
      "cell_type": "code",
      "metadata": {
        "id": "d8PkyhDCWIoq"
      },
      "source": [
        "#Sentiment analysis\r\n",
        "df=pd.DataFrame(parsed_data, columns=['ticker','date','time','title'])\r\n",
        "vader=SentimentIntensityAnalyzer()\r\n",
        "df['compound']=df['title'].apply(lambda title: vader.polarity_scores(title)['compound'])"
      ],
      "execution_count": 12,
      "outputs": []
    },
    {
      "cell_type": "code",
      "metadata": {
        "colab": {
          "base_uri": "https://localhost:8080/",
          "height": 344
        },
        "id": "N0QpgHTkWMK9",
        "outputId": "4f5369cd-3c60-4959-a6d7-82a77b91907d"
      },
      "source": [
        "#Visualization\r\n",
        "df['date']=pd.to_datetime(df.date).dt.date\r\n",
        "plt.figure(figsize=(10,8))\r\n",
        "mean_df=df.groupby(['ticker','date']).mean()\r\n",
        "mean_df=mean_df.unstack()\r\n",
        "mean_df=mean_df.xs('compound',axis='columns').transpose()\r\n",
        "mean_df.plot(kind='bar')\r\n",
        "plt.show()"
      ],
      "execution_count": 13,
      "outputs": [
        {
          "output_type": "display_data",
          "data": {
            "text/plain": [
              "<Figure size 720x576 with 0 Axes>"
            ]
          },
          "metadata": {
            "tags": []
          }
        },
        {
          "output_type": "display_data",
          "data": {
            "image/png": "[encoded data removed]",
            "text/plain": [
              "<Figure size 432x288 with 1 Axes>"
            ]
          },
          "metadata": {
            "tags": [],
            "needs_background": "light"
          }
        }
      ]
    },
    {
      "cell_type": "code",
      "metadata": {
        "colab": {
          "base_uri": "https://localhost:8080/",
          "height": 196
        },
        "id": "gQ9boxyhXK1l",
        "outputId": "0495e007-a02a-4588-98dc-72bc1afcda3e"
      },
      "source": [
        "end=datetime.datetime.today()\r\n",
        "DD = datetime.timedelta(days=7)\r\n",
        "start=end - DD\r\n",
        "end=end.strftime(\"%Y-%m-%d\")\r\n",
        "start=start.strftime(\"%Y-%m-%d\")\r\n",
        "tsla_df = yf.download('TSLA',\r\n",
        "                      start=start,\r\n",
        "                      end=end ,\r\n",
        "                      progress=False)\r\n",
        "tsla_df.head()\r\n",
        "\r\n"
      ],
      "execution_count": 21,
      "outputs": [
        {
          "output_type": "execute_result",
          "data": {
            "text/html": [
              "<div>\n",
              "<style scoped>\n",
              "    .dataframe tbody tr th:only-of-type {\n",
              "        vertical-align: middle;\n",
              "    }\n",
              "\n",
              "    .dataframe tbody tr th {\n",
              "        vertical-align: top;\n",
              "    }\n",
              "\n",
              "    .dataframe thead th {\n",
              "        text-align: right;\n",
              "    }\n",
              "</style>\n",
              "<table border=\"1\" class=\"dataframe\">\n",
              "  <thead>\n",
              "    <tr style=\"text-align: right;\">\n",
              "      <th></th>\n",
              "      <th>Open</th>\n",
              "      <th>High</th>\n",
              "      <th>Low</th>\n",
              "      <th>Close</th>\n",
              "      <th>Adj Close</th>\n",
              "      <th>Volume</th>\n",
              "    </tr>\n",
              "    <tr>\n",
              "      <th>Date</th>\n",
              "      <th></th>\n",
              "      <th></th>\n",
              "      <th></th>\n",
              "      <th></th>\n",
              "      <th></th>\n",
              "      <th></th>\n",
              "    </tr>\n",
              "  </thead>\n",
              "  <tbody>\n",
              "    <tr>\n",
              "      <th>2021-02-16</th>\n",
              "      <td>818.000000</td>\n",
              "      <td>821.000000</td>\n",
              "      <td>792.440002</td>\n",
              "      <td>796.219971</td>\n",
              "      <td>796.219971</td>\n",
              "      <td>19686700</td>\n",
              "    </tr>\n",
              "    <tr>\n",
              "      <th>2021-02-17</th>\n",
              "      <td>779.090027</td>\n",
              "      <td>799.840027</td>\n",
              "      <td>762.010010</td>\n",
              "      <td>798.150024</td>\n",
              "      <td>798.150024</td>\n",
              "      <td>25996500</td>\n",
              "    </tr>\n",
              "    <tr>\n",
              "      <th>2021-02-18</th>\n",
              "      <td>780.900024</td>\n",
              "      <td>794.690002</td>\n",
              "      <td>776.270020</td>\n",
              "      <td>787.380005</td>\n",
              "      <td>787.380005</td>\n",
              "      <td>17897000</td>\n",
              "    </tr>\n",
              "    <tr>\n",
              "      <th>2021-02-19</th>\n",
              "      <td>795.000000</td>\n",
              "      <td>796.789978</td>\n",
              "      <td>777.369995</td>\n",
              "      <td>781.299988</td>\n",
              "      <td>781.299988</td>\n",
              "      <td>18904800</td>\n",
              "    </tr>\n",
              "  </tbody>\n",
              "</table>\n",
              "</div>"
            ],
            "text/plain": [
              "                  Open        High  ...   Adj Close    Volume\n",
              "Date                                ...                      \n",
              "2021-02-16  818.000000  821.000000  ...  796.219971  19686700\n",
              "2021-02-17  779.090027  799.840027  ...  798.150024  25996500\n",
              "2021-02-18  780.900024  794.690002  ...  787.380005  17897000\n",
              "2021-02-19  795.000000  796.789978  ...  781.299988  18904800\n",
              "\n",
              "[4 rows x 6 columns]"
            ]
          },
          "metadata": {
            "tags": []
          },
          "execution_count": 21
        }
      ]
    },
    {
      "cell_type": "code",
      "metadata": {
        "colab": {
          "base_uri": "https://localhost:8080/",
          "height": 606
        },
        "id": "vv_rH-5DXSYg",
        "outputId": "c2392674-b014-4e75-b6e3-08d408743fab"
      },
      "source": [
        "plt.figure(figsize=(10,10))\r\n",
        "plt.plot(tsla_df.index, tsla_df['Close'],label='stock price')\r\n",
        "plt.plot(mean_df.index, mean_df['TSLA']*100+790,label='sentiment')\r\n",
        "plt.xlabel(\"date\")\r\n",
        "plt.legend()\r\n",
        "plt.show()"
      ],
      "execution_count": 26,
      "outputs": [
        {
          "output_type": "display_data",
          "data": {
            "image/png": "[encoded data removed]",
            "text/plain": [
              "<Figure size 720x720 with 1 Axes>"
            ]
          },
          "metadata": {
            "tags": [],
            "needs_background": "light"
          }
        }
      ]
    },
    {
      "cell_type": "code",
      "metadata": {
        "id": "ISicJ_xJYXpN"
      },
      "source": [
        ""
      ],
      "execution_count": null,
      "outputs": []
    }
  ]
}