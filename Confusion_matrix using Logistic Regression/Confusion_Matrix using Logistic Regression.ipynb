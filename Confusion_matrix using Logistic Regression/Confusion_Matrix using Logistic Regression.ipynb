{
 "cells": [
  {
   "cell_type": "code",
   "execution_count": 1,
   "metadata": {},
   "outputs": [],
   "source": [
    "#import libraries\n",
    "from sklearn.datasets import make_classification\n",
    "from matplotlib import pyplot as plt\n",
    "from sklearn.linear_model import LogisticRegression\n",
    "from sklearn.model_selection import train_test_split\n",
    "from sklearn.metrics import confusion_matrix\n",
    "import pandas as pd"
   ]
  },
  {
   "cell_type": "code",
   "execution_count": 4,
   "metadata": {},
   "outputs": [
    {
     "name": "stdout",
     "output_type": "stream",
     "text": [
      "[[-1.79553531]\n",
      " [-1.47849667]\n",
      " [ 1.00460356]\n",
      " [ 0.13574421]\n",
      " [ 1.05463628]\n",
      " [-1.72874293]\n",
      " [-1.21626867]\n",
      " [-1.82470844]\n",
      " [ 0.99030474]\n",
      " [-1.6730516 ]\n",
      " [ 1.03656623]\n",
      " [ 1.03307633]\n",
      " [ 0.49956941]\n",
      " [ 1.00314406]\n",
      " [-0.76255608]\n",
      " [-0.66940179]\n",
      " [ 0.95466995]\n",
      " [ 0.96824462]\n",
      " [-1.09141963]\n",
      " [ 1.01319609]\n",
      " [-0.54244209]\n",
      " [ 1.01959408]\n",
      " [ 0.98078124]\n",
      " [-1.50602816]\n",
      " [-0.38043503]\n",
      " [-0.63276668]\n",
      " [-1.72723021]\n",
      " [ 1.00961257]\n",
      " [ 0.97698128]\n",
      " [ 1.00212835]\n",
      " [-0.63605793]\n",
      " [ 0.98227018]\n",
      " [-0.56264116]\n",
      " [ 0.96821951]\n",
      " [-2.74354318]\n",
      " [ 0.98165017]\n",
      " [ 0.97607375]\n",
      " [ 0.98904686]\n",
      " [ 1.00401933]\n",
      " [-1.48211328]\n",
      " [ 0.9932323 ]\n",
      " [-1.51247233]\n",
      " [ 0.99116491]\n",
      " [ 1.00955406]\n",
      " [-1.79299248]\n",
      " [ 0.95902138]\n",
      " [ 0.98431558]\n",
      " [ 0.97860708]\n",
      " [ 0.07727946]\n",
      " [ 0.991634  ]\n",
      " [-0.89275597]\n",
      " [-0.86852055]\n",
      " [ 1.00844731]\n",
      " [ 1.04885877]\n",
      " [-2.06613599]\n",
      " [ 0.9439681 ]\n",
      " [-1.95785495]\n",
      " [ 0.95709224]\n",
      " [-0.91711172]\n",
      " [ 0.04094336]\n",
      " [ 0.9828606 ]\n",
      " [-1.66270779]\n",
      " [-0.30845578]\n",
      " [ 0.97585553]\n",
      " [ 1.02081244]\n",
      " [-0.08214945]\n",
      " [ 0.95250579]\n",
      " [-0.8980005 ]\n",
      " [-0.90734332]\n",
      " [ 1.09053701]\n",
      " [ 0.94997682]\n",
      " [ 1.0417137 ]\n",
      " [-1.31775816]\n",
      " [ 1.01414446]\n",
      " [-1.12846488]\n",
      " [ 0.99150387]\n",
      " [-0.34437747]\n",
      " [-0.1954905 ]\n",
      " [ 0.45008318]\n",
      " [ 0.95368002]\n",
      " [ 1.02619708]\n",
      " [ 0.98293104]\n",
      " [-0.40440464]\n",
      " [-2.76029929]\n",
      " [-0.83400568]\n",
      " [ 1.00911773]\n",
      " [-0.71900419]\n",
      " [ 0.92790701]\n",
      " [-0.03748619]\n",
      " [ 0.21314001]\n",
      " [ 0.20940999]\n",
      " [ 1.02297273]\n",
      " [-0.79795088]\n",
      " [-2.11027726]\n",
      " [ 0.95540419]\n",
      " [ 0.96824363]\n",
      " [-0.39399561]\n",
      " [ 1.01673706]\n",
      " [-0.69294862]\n",
      " [ 1.00347957]]\n"
     ]
    }
   ],
   "source": [
    "#Generate the dataset\n",
    "x, y =  make_classification(\n",
    "    n_samples = 100,\n",
    "    n_features = 1,\n",
    "    n_classes = 2,\n",
    "    n_clusters_per_class = 1,\n",
    "    flip_y = 0.03,\n",
    "    n_informative = 1,\n",
    "    n_redundant = 0,\n",
    "    n_repeated = 0\n",
    "    \n",
    ")\n",
    "print(x)"
   ]
  },
  {
   "cell_type": "code",
   "execution_count": 5,
   "metadata": {},
   "outputs": [
    {
     "name": "stdout",
     "output_type": "stream",
     "text": [
      "[0 1 0 0 0 1 0 1 0 0 1 1 0 0 1 1 0 0 0 0 0 1 0 0 0 1 1 1 0 1 1 1 1 1 0 1 0\n",
      " 0 0 1 1 0 0 1 0 1 0 1 1 0 1 0 0 1 0 0 0 1 0 0 1 0 0 1 1 0 1 1 1 1 0 0 0 0\n",
      " 1 1 1 1 1 0 0 1 0 0 0 1 0 0 1 0 1 1 1 0 1 1 1 1 1 1]\n"
     ]
    }
   ],
   "source": [
    "x, y =  make_classification(\n",
    "    n_samples = 100,\n",
    "    n_features = 1,\n",
    "    n_classes = 2,\n",
    "    n_clusters_per_class = 1,\n",
    "    flip_y = 0.03,\n",
    "    n_informative = 1,\n",
    "    n_redundant = 0,\n",
    "    n_repeated = 0\n",
    "    \n",
    ")\n",
    "print(y)"
   ]
  },
  {
   "cell_type": "code",
   "execution_count": 7,
   "metadata": {},
   "outputs": [
    {
     "data": {
      "image/png": "[encoded data removed]",
      "text/plain": [
       "<Figure size 432x288 with 1 Axes>"
      ]
     },
     "metadata": {
      "needs_background": "light"
     },
     "output_type": "display_data"
    }
   ],
   "source": [
    "#visualise data by creating scatter plot\n",
    "plt.scatter(x, y, c=y, cmap='rainbow')\n",
    "plt.title('Scatter plot logistic regression')\n",
    "plt.show()"
   ]
  },
  {
   "cell_type": "code",
   "execution_count": 10,
   "metadata": {},
   "outputs": [],
   "source": [
    "#split dataset\n",
    "x_train, x_test, y_train, y_test = train_test_split(x, y, random_state=1)"
   ]
  },
  {
   "cell_type": "code",
   "execution_count": 11,
   "metadata": {},
   "outputs": [
    {
     "data": {
      "text/plain": [
       "(75, 1)"
      ]
     },
     "execution_count": 11,
     "metadata": {},
     "output_type": "execute_result"
    }
   ],
   "source": [
    "x_train.shape"
   ]
  },
  {
   "cell_type": "code",
   "execution_count": 12,
   "metadata": {},
   "outputs": [
    {
     "data": {
      "text/plain": [
       "LogisticRegression(C=1.0, class_weight=None, dual=False, fit_intercept=True,\n",
       "                   intercept_scaling=1, l1_ratio=None, max_iter=100,\n",
       "                   multi_class='auto', n_jobs=None, penalty='l2',\n",
       "                   random_state=None, solver='lbfgs', tol=0.0001, verbose=0,\n",
       "                   warm_start=False)"
      ]
     },
     "execution_count": 12,
     "metadata": {},
     "output_type": "execute_result"
    }
   ],
   "source": [
    "#Logistic Regression\n",
    "log_reg = LogisticRegression()\n",
    "log_reg.fit(x_train, y_train)"
   ]
  },
  {
   "cell_type": "code",
   "execution_count": 13,
   "metadata": {},
   "outputs": [],
   "source": [
    "#Prediction\n",
    "y_predict = log_reg.predict(x_test)"
   ]
  },
  {
   "cell_type": "code",
   "execution_count": 14,
   "metadata": {},
   "outputs": [
    {
     "data": {
      "text/plain": [
       "array([[15,  0],\n",
       "       [ 0, 10]], dtype=int64)"
      ]
     },
     "execution_count": 14,
     "metadata": {},
     "output_type": "execute_result"
    }
   ],
   "source": [
    "#Display confusion matrix\n",
    "confusion_matrix(y_test, y_predict)"
   ]
  },
  {
   "cell_type": "code",
   "execution_count": null,
   "metadata": {},
   "outputs": [],
   "source": []
  }
 ],
 "metadata": {
  "kernelspec": {
   "display_name": "Python 3",
   "language": "python",
   "name": "python3"
  },
  "language_info": {
   "codemirror_mode": {
    "name": "ipython",
    "version": 3
   },
   "file_extension": ".py",
   "mimetype": "text/x-python",
   "name": "python",
   "nbconvert_exporter": "python",
   "pygments_lexer": "ipython3",
   "version": "3.7.6"
  }
 },
 "nbformat": 4,
 "nbformat_minor": 4
}
