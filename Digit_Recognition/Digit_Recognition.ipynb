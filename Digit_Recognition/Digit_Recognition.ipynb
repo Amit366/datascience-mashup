{
 "cells": [
  {
   "cell_type": "code",
   "execution_count": 1,
   "metadata": {},
   "outputs": [],
   "source": [
    "#importing libraries\n",
    "from sklearn.datasets import load_digits\n",
    "from sklearn.model_selection import train_test_split\n",
    "import numpy as np\n",
    "import matplotlib.pyplot as plt"
   ]
  },
  {
   "cell_type": "code",
   "execution_count": 20,
   "metadata": {},
   "outputs": [
    {
     "data": {
      "text/plain": [
       "<matplotlib.image.AxesImage at 0x22a0f150fc8>"
      ]
     },
     "execution_count": 20,
     "metadata": {},
     "output_type": "execute_result"
    },
    {
     "data": {
      "image/png": "[encoded data removed]",
      "text/plain": [
       "<Figure size 432x288 with 12 Axes>"
      ]
     },
     "metadata": {
      "needs_background": "light"
     },
     "output_type": "display_data"
    }
   ],
   "source": [
    "digits = load_digits()\n",
    "\n",
    "f, axarr = plt.subplots(4,3)\n",
    "axarr[0,0].imshow(digits.images[0])\n",
    "axarr[0,1].imshow(digits.images[1])\n",
    "axarr[0,2].imshow(digits.images[2])\n",
    "axarr[1,0].imshow(digits.images[3])\n",
    "axarr[1,1].imshow(digits.images[4])\n",
    "axarr[1,2].imshow(digits.images[5])\n",
    "axarr[2,0].imshow(digits.images[6])\n",
    "axarr[2,1].imshow(digits.images[7])\n",
    "axarr[2,2].imshow(digits.images[8])\n",
    "axarr[3,0].imshow(digits.images[9])"
   ]
  },
  {
   "cell_type": "code",
   "execution_count": 21,
   "metadata": {},
   "outputs": [],
   "source": [
    "class LogisticRegression():\n",
    "    \"\"\"Class for training and using a model for logistic regression\"\"\"\n",
    "    \n",
    "    def set_values(self, initial_params, alpha=0.01, iter_max=5000, class_interest=0):\n",
    "        \"\"\"Set the values for initial params, step size, maximum iteration, and class of interest\"\"\"\n",
    "        \n",
    "        self.params = initial_params\n",
    "        self.alpha = alpha\n",
    "        self.iter_max = iter_max\n",
    "        self.class_interest = class_interest\n",
    "    \n",
    "    @staticmethod\n",
    "    def _sigmoid(a):\n",
    "        \"\"\"Sigmoide function\"\"\"\n",
    "        \n",
    "        return 1.0 / (1.0 + np.exp(-a))\n",
    "    \n",
    "    def predict(self, bar_a, params):\n",
    "        \"\"\"predict the probability of a class\"\"\"  \n",
    "                \n",
    "        return self._sigmoid(np.dot(params, bar_a))\n",
    "    \n",
    "    def _compute_cost(self, input_var, output_var, params):\n",
    "        \"\"\"Compute the log likelihood cost\"\"\"\n",
    "        \n",
    "        cost = 0\n",
    "        for x, y in zip(input_var, output_var):\n",
    "            bar_a = np.array(np.insert(x, 0, 1))\n",
    "            y_hat = self.predict(bar_a, params)\n",
    "            \n",
    "            y_binary = 1.0 if y == self.class_interest else 0.0\n",
    "            cost += y_binary * np.log(y_hat) + (1.0 - y_binary) * np.log(1 - y_hat)\n",
    "            \n",
    "        return cost\n",
    "    \n",
    "    def train(self, input_var, label, iter_print = 5000):\n",
    "        \"\"\"Train the model \"\"\"\n",
    "        \n",
    "        iteration = 1\n",
    "        while iteration < self.iter_max:\n",
    "            if iteration % iter_print == 0:\n",
    "                print(f'iteration: {iteration}')\n",
    "                print(f'cost: {self._compute_cost(input_var, label, self.params)}')\n",
    "                print('--------------------------------------------')\n",
    "            \n",
    "            for i, xy in enumerate(zip(input_var, label)):\n",
    "                bar_a = np.array(np.insert(xy[0], 0, 1))\n",
    "                y_hat = self.predict(bar_a, self.params)\n",
    "                \n",
    "                y_binary = 1.0 if xy[1] == self.class_interest else 0.0\n",
    "                gradient = (y_binary - y_hat) * bar_a\n",
    "                self.params += self.alpha * gradient\n",
    "            \n",
    "            iteration +=1\n",
    "        \n",
    "        return self.params\n",
    "\n",
    "    def test(self, input_test, test_label):\n",
    "        \"\"\"Test the accuracy of the model \"\"\"\n",
    "        \n",
    "        self.total_classifications = 0\n",
    "        self.correct_classifications = 0\n",
    "        \n",
    "        for x,y in zip(input_test, test_label):\n",
    "            self.total_classifications += 1\n",
    "            bar_a = np.array(np.insert(x, 0, 1))\n",
    "            y_hat = self.predict(bar_a, self.params)\n",
    "            y_binary = 1.0 if y == self.class_interest else 0.0\n",
    "            \n",
    "            if y_hat >= 0.5 and  y_binary == 1:\n",
    "                # correct classification of class_of_interest\n",
    "                self.correct_classifications += 1\n",
    "              \n",
    "            if y_hat < 0.5 and  y_binary != 1:\n",
    "                # correct classification of an other class\n",
    "                self.correct_classifications += 1\n",
    "                \n",
    "        self.accuracy = self.correct_classifications / self.total_classifications\n",
    "            \n",
    "        return self.accuracy"
   ]
  },
  {
   "cell_type": "code",
   "execution_count": 22,
   "metadata": {},
   "outputs": [],
   "source": [
    "# split the data to training and test sets\n",
    "train_digits, test_digits, digits_label_train, digits_label_test =\\\n",
    "train_test_split(digits.data, digits.target, test_size=0.20)"
   ]
  },
  {
   "cell_type": "code",
   "execution_count": 13,
   "metadata": {},
   "outputs": [
    {
     "name": "stdout",
     "output_type": "stream",
     "text": [
      "iteration: 1000\n",
      "cost: -1.8617723833598285\n",
      "--------------------------------------------\n",
      "iteration: 2000\n",
      "cost: -1.04813941096907\n",
      "--------------------------------------------\n",
      "iteration: 3000\n",
      "cost: -0.7367924255634913\n",
      "--------------------------------------------\n",
      "iteration: 4000\n",
      "cost: -0.5702400317991684\n",
      "--------------------------------------------\n",
      "iteration: 5000\n",
      "cost: -0.46601609233456326\n",
      "--------------------------------------------\n",
      "iteration: 6000\n",
      "cost: -0.39446312793281285\n",
      "--------------------------------------------\n",
      "iteration: 7000\n",
      "cost: -0.34221929379689436\n",
      "--------------------------------------------\n",
      "iteration: 8000\n",
      "cost: -0.3023567591354298\n",
      "--------------------------------------------\n",
      "iteration: 9000\n",
      "cost: -0.27091771337070814\n",
      "--------------------------------------------\n"
     ]
    }
   ],
   "source": [
    "# train a classifier for the ZERO digit\n",
    "alpha = 1e-2\n",
    "params_0 = np.zeros(len(digits.data[0]) + 1)\n",
    "\n",
    "iter_max = 10000\n",
    "digits_regression_model_0 = LogisticRegression()\n",
    "digits_regression_model_0.set_values(params_0, alpha, iter_max, 0)\n",
    "\n",
    "params =\\\n",
    "digits_regression_model_0.train(train_digits / 16.0, digits_label_train, 1000)"
   ]
  },
  {
   "cell_type": "code",
   "execution_count": 15,
   "metadata": {},
   "outputs": [
    {
     "name": "stdout",
     "output_type": "stream",
     "text": [
      "Accuracy of prediciting a ONE digit in test set: 1.0\n"
     ]
    }
   ],
   "source": [
    "#accuracy\n",
    "accuracy = digits_regression_model_0.test(test_digits / 16.0, digits_label_test)\n",
    "print(f'Accuracy of prediciting a ONE digit in test set: {accuracy}')"
   ]
  },
  {
   "cell_type": "code",
   "execution_count": 16,
   "metadata": {},
   "outputs": [
    {
     "name": "stdout",
     "output_type": "stream",
     "text": [
      "iteration: 1000\n",
      "cost: -29.880010627991478\n",
      "--------------------------------------------\n",
      "iteration: 2000\n",
      "cost: -23.89083533706708\n",
      "--------------------------------------------\n",
      "iteration: 3000\n",
      "cost: -20.98449971808456\n",
      "--------------------------------------------\n",
      "iteration: 4000\n",
      "cost: -19.13182920303362\n",
      "--------------------------------------------\n",
      "iteration: 5000\n",
      "cost: -17.794194844846004\n",
      "--------------------------------------------\n",
      "iteration: 6000\n",
      "cost: -16.75601529792599\n",
      "--------------------------------------------\n",
      "iteration: 7000\n",
      "cost: -15.911384332272544\n",
      "--------------------------------------------\n",
      "iteration: 8000\n",
      "cost: -15.201148715363093\n",
      "--------------------------------------------\n",
      "iteration: 9000\n",
      "cost: -14.589201614485031\n",
      "--------------------------------------------\n"
     ]
    }
   ],
   "source": [
    "# train a classifier for the ONE digit\n",
    "alpha = 1e-2\n",
    "params_0 = np.zeros(len(digits.data[0]) + 1)\n",
    "\n",
    "iter_max = 10000\n",
    "digits_regression_model_1 = LogisticRegression()\n",
    "digits_regression_model_1.set_values(params_0, alpha, iter_max, 1)\n",
    "\n",
    "params =\\\n",
    "digits_regression_model_1.train(train_digits / 16.0, digits_label_train, 1000)"
   ]
  },
  {
   "cell_type": "code",
   "execution_count": 17,
   "metadata": {},
   "outputs": [
    {
     "name": "stdout",
     "output_type": "stream",
     "text": [
      "Accuracy of prediciting a TWO digit in test set: 0.9722222222222222\n"
     ]
    }
   ],
   "source": [
    "#accuracy\n",
    "accuracy = digits_regression_model_1.test(test_digits / 16.0, digits_label_test)\n",
    "print(f'Accuracy of prediciting a ONE digit in test set: {accuracy}')"
   ]
  },
  {
   "cell_type": "code",
   "execution_count": 18,
   "metadata": {},
   "outputs": [
    {
     "name": "stdout",
     "output_type": "stream",
     "text": [
      "iteration: 1000\n",
      "cost: -1.8617723833598285\n",
      "--------------------------------------------\n",
      "iteration: 2000\n",
      "cost: -1.04813941096907\n",
      "--------------------------------------------\n",
      "iteration: 3000\n",
      "cost: -0.7367924255634913\n",
      "--------------------------------------------\n",
      "iteration: 4000\n",
      "cost: -0.5702400317991684\n",
      "--------------------------------------------\n",
      "iteration: 5000\n",
      "cost: -0.46601609233456326\n",
      "--------------------------------------------\n",
      "iteration: 6000\n",
      "cost: -0.39446312793281285\n",
      "--------------------------------------------\n",
      "iteration: 7000\n",
      "cost: -0.34221929379689436\n",
      "--------------------------------------------\n",
      "iteration: 8000\n",
      "cost: -0.3023567591354298\n",
      "--------------------------------------------\n",
      "iteration: 9000\n",
      "cost: -0.27091771337070814\n",
      "--------------------------------------------\n"
     ]
    }
   ],
   "source": [
    "# train a classifier for the TWO digit\n",
    "alpha = 1e-2\n",
    "params_0 = np.zeros(len(digits.data[0]) + 1)\n",
    "\n",
    "iter_max = 10000\n",
    "digits_regression_model_2 = LogisticRegression()\n",
    "digits_regression_model_2.set_values(params_0, alpha, iter_max, 0)\n",
    "\n",
    "params =\\\n",
    "digits_regression_model_2.train(train_digits / 16.0, digits_label_train, 1000)"
   ]
  },
  {
   "cell_type": "code",
   "execution_count": 19,
   "metadata": {},
   "outputs": [
    {
     "name": "stdout",
     "output_type": "stream",
     "text": [
      "Accuracy of prediciting a TWO digit in test set: 1.0\n"
     ]
    }
   ],
   "source": [
    "#accuracy\n",
    "accuracy = digits_regression_model_2.test(test_digits / 16.0, digits_label_test)\n",
    "print(f'Accuracy of prediciting a TWO digit in test set: {accuracy}')"
   ]
  },
  {
   "cell_type": "code",
   "execution_count": 23,
   "metadata": {},
   "outputs": [
    {
     "name": "stdout",
     "output_type": "stream",
     "text": [
      "iteration: 1000\n",
      "cost: -4.618298287392253\n",
      "--------------------------------------------\n",
      "iteration: 2000\n",
      "cost: -2.6344706618056746\n",
      "--------------------------------------------\n",
      "iteration: 3000\n",
      "cost: -1.8601914108714526\n",
      "--------------------------------------------\n",
      "iteration: 4000\n",
      "cost: -1.4429886205888383\n",
      "--------------------------------------------\n",
      "iteration: 5000\n",
      "cost: -1.1809426351496592\n",
      "--------------------------------------------\n",
      "iteration: 6000\n",
      "cost: -1.0006285680316993\n",
      "--------------------------------------------\n",
      "iteration: 7000\n",
      "cost: -0.868766416732642\n",
      "--------------------------------------------\n",
      "iteration: 8000\n",
      "cost: -0.7680366369924487\n",
      "--------------------------------------------\n",
      "iteration: 9000\n",
      "cost: -0.6885195187394286\n",
      "--------------------------------------------\n"
     ]
    }
   ],
   "source": [
    "# train a classifier for the Seven digit\n",
    "alpha = 1e-2\n",
    "params_0 = np.zeros(len(digits.data[0]) + 1)\n",
    "\n",
    "iter_max = 10000\n",
    "digits_regression_model_7 = LogisticRegression()\n",
    "digits_regression_model_7.set_values(params_0, alpha, iter_max, 7)\n",
    "\n",
    "params =\\\n",
    "digits_regression_model_7.train(train_digits / 16.0, digits_label_train, 1000)"
   ]
  },
  {
   "cell_type": "code",
   "execution_count": 24,
   "metadata": {},
   "outputs": [
    {
     "name": "stdout",
     "output_type": "stream",
     "text": [
      "Accuracy of prediciting a Seven digit in test set: 0.9888888888888889\n"
     ]
    }
   ],
   "source": [
    "#accuracy\n",
    "accuracy = digits_regression_model_7.test(test_digits / 16.0, digits_label_test)\n",
    "print(f'Accuracy of prediciting a Seven digit in test set: {accuracy}')"
   ]
  },
  {
   "cell_type": "code",
   "execution_count": 25,
   "metadata": {},
   "outputs": [
    {
     "name": "stdout",
     "output_type": "stream",
     "text": [
      "iteration: 1000\n",
      "cost: -32.746521355146996\n",
      "--------------------------------------------\n",
      "iteration: 2000\n",
      "cost: -28.064528588325384\n",
      "--------------------------------------------\n",
      "iteration: 3000\n",
      "cost: -25.658505602279135\n",
      "--------------------------------------------\n",
      "iteration: 4000\n",
      "cost: -24.085544443356067\n",
      "--------------------------------------------\n",
      "iteration: 5000\n",
      "cost: -22.93840626335799\n",
      "--------------------------------------------\n",
      "iteration: 6000\n",
      "cost: -22.044948510192242\n",
      "--------------------------------------------\n",
      "iteration: 7000\n",
      "cost: -21.317101611972184\n",
      "--------------------------------------------\n",
      "iteration: 8000\n",
      "cost: -20.70444111789916\n",
      "--------------------------------------------\n",
      "iteration: 9000\n",
      "cost: -20.175789729721423\n",
      "--------------------------------------------\n",
      "iteration: 10000\n",
      "cost: -19.71072662335057\n",
      "--------------------------------------------\n"
     ]
    }
   ],
   "source": [
    "# train a classifier for the Nine digit\n",
    "alpha = 1e-2\n",
    "params_0 = np.zeros(len(digits.data[0]) + 1)\n",
    "\n",
    "iter_max = 11000\n",
    "digits_regression_model_9 = LogisticRegression()\n",
    "digits_regression_model_9.set_values(params_0, alpha, iter_max, 9)\n",
    "\n",
    "params =\\\n",
    "digits_regression_model_9.train(train_digits / 16.0, digits_label_train, 1000)"
   ]
  },
  {
   "cell_type": "code",
   "execution_count": 26,
   "metadata": {},
   "outputs": [
    {
     "name": "stdout",
     "output_type": "stream",
     "text": [
      "Accuracy of prediciting a NINE digit in test set: 0.9694444444444444\n"
     ]
    }
   ],
   "source": [
    "#accuracy\n",
    "accuracy = digits_regression_model_9.test(test_digits / 16.0, digits_label_test)\n",
    "print(f'Accuracy of prediciting a NINE digit in test set: {accuracy}')"
   ]
  },
  {
   "cell_type": "code",
   "execution_count": null,
   "metadata": {},
   "outputs": [],
   "source": []
  }
 ],
 "metadata": {
  "kernelspec": {
   "display_name": "Python 3",
   "language": "python",
   "name": "python3"
  },
  "language_info": {
   "codemirror_mode": {
    "name": "ipython",
    "version": 3
   },
   "file_extension": ".py",
   "mimetype": "text/x-python",
   "name": "python",
   "nbconvert_exporter": "python",
   "pygments_lexer": "ipython3",
   "version": "3.7.6"
  }
 },
 "nbformat": 4,
 "nbformat_minor": 4
}
