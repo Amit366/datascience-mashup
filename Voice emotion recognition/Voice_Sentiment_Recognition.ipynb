{
  "nbformat": 4,
  "nbformat_minor": 0,
  "metadata": {
    "colab": {
      "name": "Speech_Sentiment_Analysis.ipynb",
      "provenance": []
    },
    "kernelspec": {
      "name": "python3",
      "display_name": "Python 3"
    }
  },
  "cells": [
    {
      "cell_type": "code",
      "metadata": {
        "id": "u84rUu-J49NH"
      },
      "source": [
        "import librosa\r\n",
        "import soundfile\r\n",
        "import numpy as np\r\n",
        "import os, pickle,glob\r\n",
        "from sklearn.model_selection import train_test_split\r\n",
        "from sklearn.neural_network import MLPClassifier\r\n",
        "from sklearn.metrics import accuracy_score,confusion_matrix,classification_report\r\n",
        "from keras.layers import Dense\r\n",
        "from keras.layers import Conv1D\r\n",
        "from keras.layers import Flatten\r\n",
        "from keras.layers import Dropout\r\n",
        "from keras.layers import Activation\r\n",
        "from keras.models import Sequential"
      ],
      "execution_count": 31,
      "outputs": []
    },
    {
      "cell_type": "code",
      "metadata": {
        "id": "LiCI1mfTGrxS"
      },
      "source": [
        "path= \"/content/drive/My Drive/dataset\""
      ],
      "execution_count": 32,
      "outputs": []
    },
    {
      "cell_type": "code",
      "metadata": {
        "id": "Iv_O1Y0_Hk86"
      },
      "source": [
        "#extracting features from audio file\r\n",
        "def extract_features(file_name, mfcc, chroma, mel):\r\n",
        "    with soundfile.SoundFile(file_name) as s_file:\r\n",
        "        x=s_file.read(dtype=\"float32\")\r\n",
        "        sample_rate=s_file.samplerate\r\n",
        "\r\n",
        "        if chroma:\r\n",
        "            stft=np.abs(librosa.stft(x))\r\n",
        "        result=np.array([])\r\n",
        "        if mfcc:\r\n",
        "            mfccs = np.mean(librosa.feature.mfcc(y=x, sr=sample_rate, n_mfcc=40).T, axis=0)\r\n",
        "            result = np.hstack((result, mfccs))\r\n",
        "        if chroma:\r\n",
        "            chroma = np.mean(librosa.feature.chroma_stft(S=stft, sr=sample_rate).T, axis=0)\r\n",
        "            result = np.hstack((result, chroma))\r\n",
        "        if mel:\r\n",
        "            mel = np.mean(librosa.feature.melspectrogram(x, sr=sample_rate).T, axis=0)\r\n",
        "            result = np.hstack((result, mel))\r\n",
        "    return result"
      ],
      "execution_count": 33,
      "outputs": []
    },
    {
      "cell_type": "code",
      "metadata": {
        "id": "VQQrHew7JDG7"
      },
      "source": [
        "#Spliting train-test\r\n",
        "def train_test(test_size=0.2):\r\n",
        "    x=[]\r\n",
        "    y=[]\r\n",
        "    for file in glob.glob(r\"/content/drive/My Drive/dataset//Actor_*/*.wav\"):\r\n",
        "        file_name=os.path.basename(file)\r\n",
        "        emotion=file_name.split('-')[2]\r\n",
        "        if(emotion=='01' or emotion=='02'  or  emotion=='06'):\r\n",
        "            emotion=0\r\n",
        "        elif(emotion=='03'):\r\n",
        "            emotion=1\r\n",
        "        if emotion==0 or emotion==1:\r\n",
        "\r\n",
        "            feature=extract_features(file,mfcc=True,chroma=True,mel=True)\r\n",
        "            x.append(feature)\r\n",
        "            y.append(emotion)\r\n",
        "\r\n",
        "    return train_test_split(np.array(x),y,test_size=test_size,random_state=9)"
      ],
      "execution_count": 34,
      "outputs": []
    },
    {
      "cell_type": "code",
      "metadata": {
        "id": "Ts93-iKOJiNb"
      },
      "source": [
        "x_train,x_test,y_train,y_test=train_test(test_size=0.25)"
      ],
      "execution_count": 40,
      "outputs": []
    },
    {
      "cell_type": "code",
      "metadata": {
        "colab": {
          "base_uri": "https://localhost:8080/"
        },
        "id": "3csf1aC3Jl3h",
        "outputId": "660ae04a-a1f9-4aff-aa26-f5a8f9940026"
      },
      "source": [
        "model=MLPClassifier(alpha=0.01, batch_size=256, epsilon=1e-08, hidden_layer_sizes=(300,), learning_rate='adaptive', max_iter=500)\r\n",
        "model.fit(x_train,y_train)\r\n"
      ],
      "execution_count": 41,
      "outputs": [
        {
          "output_type": "stream",
          "text": [
            "/usr/local/lib/python3.6/dist-packages/sklearn/neural_network/_multilayer_perceptron.py:571: ConvergenceWarning: Stochastic Optimizer: Maximum iterations (500) reached and the optimization hasn't converged yet.\n",
            "  % self.max_iter, ConvergenceWarning)\n"
          ],
          "name": "stderr"
        },
        {
          "output_type": "execute_result",
          "data": {
            "text/plain": [
              "MLPClassifier(activation='relu', alpha=0.01, batch_size=256, beta_1=0.9,\n",
              "              beta_2=0.999, early_stopping=False, epsilon=1e-08,\n",
              "              hidden_layer_sizes=(300,), learning_rate='adaptive',\n",
              "              learning_rate_init=0.001, max_fun=15000, max_iter=500,\n",
              "              momentum=0.9, n_iter_no_change=10, nesterovs_momentum=True,\n",
              "              power_t=0.5, random_state=None, shuffle=True, solver='adam',\n",
              "              tol=0.0001, validation_fraction=0.1, verbose=False,\n",
              "              warm_start=False)"
            ]
          },
          "metadata": {
            "tags": []
          },
          "execution_count": 41
        }
      ]
    },
    {
      "cell_type": "code",
      "metadata": {
        "colab": {
          "base_uri": "https://localhost:8080/"
        },
        "id": "gYymtHJqMhtp",
        "outputId": "d779520a-b386-40cd-a9dd-bb21765686d5"
      },
      "source": [
        "y_pred=model.predict(x_test)\r\n",
        "print(y_pred)\r\n"
      ],
      "execution_count": 42,
      "outputs": [
        {
          "output_type": "stream",
          "text": [
            "[1 0 0 0 1 0 1 0 0 0 0 0 0 1 0 0 0 1 0 1 1 0 0 0 0 0 1 0 1 1 0 0 0 0 1 0 1\n",
            " 1 1 0 1 0 0 1 0 1 0 0 0 0 0 1 0 0 0 0 0 0 0 0 0 0 0 0 1 0 1 0 1 0 0 0 0 0\n",
            " 0 0 1 0 0 0 0 1 0 0 0 0 0 0 0 0 1 0 0 0 0 0 0 0 0 1 0 0 0 0 1 0 0 0 0 0 0\n",
            " 1 0 1 1 0 0 0 0 1 1 1 0 1 1 0 0 0 0 0 0 0 1 0 0 0 0 0 0 0 0 0 1 1 0 1 0 0\n",
            " 0 0 1 1 0 0 0 0 0 1 0 1 1 0 0 1 1 0 0 0]\n"
          ],
          "name": "stdout"
        }
      ]
    },
    {
      "cell_type": "code",
      "metadata": {
        "id": "RDFvWQZXMh0X"
      },
      "source": [
        "accuracy=accuracy_score(y_true=y_test, y_pred=y_pred)"
      ],
      "execution_count": 43,
      "outputs": []
    },
    {
      "cell_type": "code",
      "metadata": {
        "colab": {
          "base_uri": "https://localhost:8080/"
        },
        "id": "FAE_EBVyMpgl",
        "outputId": "fda13217-63be-4102-a693-10e8aa0ef674"
      },
      "source": [
        "print(accuracy)"
      ],
      "execution_count": 44,
      "outputs": [
        {
          "output_type": "stream",
          "text": [
            "0.875\n"
          ],
          "name": "stdout"
        }
      ]
    }
  ]
}