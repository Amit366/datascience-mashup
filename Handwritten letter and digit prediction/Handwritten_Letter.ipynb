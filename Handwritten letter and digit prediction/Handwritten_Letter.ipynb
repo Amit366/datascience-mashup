{
  "nbformat": 4,
  "nbformat_minor": 0,
  "metadata": {
    "colab": {
      "name": "Final_Project.ipynb",
      "provenance": [],
      "collapsed_sections": [],
      "toc_visible": true
    },
    "kernelspec": {
      "name": "python3",
      "display_name": "Python 3"
    },
    "accelerator": "GPU"
  },
  "cells": [
    {
      "cell_type": "markdown",
      "metadata": {
        "id": "87bJEACF-UVc"
      },
      "source": [
        "## Importing Libraries and Dataset"
      ]
    },
    {
      "cell_type": "code",
      "metadata": {
        "id": "zHMnuvkjtnse"
      },
      "source": [
        "import numpy as np\n",
        "import pandas as pd\n",
        "import matplotlib.pyplot as plt\n",
        "%matplotlib inline\n",
        "import os\n",
        "\n",
        "if not os.path.isdir('models'): \n",
        "    os.mkdir('models')   "
      ],
      "execution_count": 45,
      "outputs": []
    },
    {
      "cell_type": "code",
      "metadata": {
        "id": "m_YT8bnI-0jb"
      },
      "source": [
        "import tensorflow as tf\n",
        "from keras.models import Sequential  #Sequential Model\n",
        "from keras.layers import Conv2D,MaxPooling2D,Flatten,Dense,Dropout,Activation  #Different layers of CNN\n",
        "from keras.layers.normalization import BatchNormalization\n",
        "from keras.callbacks import ModelCheckpoint,EarlyStopping"
      ],
      "execution_count": 46,
      "outputs": []
    },
    {
      "cell_type": "code",
      "metadata": {
        "id": "uqrgdLgrvfbq",
        "colab": {
          "base_uri": "https://localhost:8080/"
        },
        "outputId": "3cd5d1d3-f3d9-4824-b498-ea0ae4322c0e"
      },
      "source": [
        "pip install emnist"
      ],
      "execution_count": 47,
      "outputs": [
        {
          "output_type": "stream",
          "text": [
            "Requirement already satisfied: emnist in /usr/local/lib/python3.6/dist-packages (0.0)\n",
            "Requirement already satisfied: numpy in /usr/local/lib/python3.6/dist-packages (from emnist) (1.19.5)\n",
            "Requirement already satisfied: tqdm in /usr/local/lib/python3.6/dist-packages (from emnist) (4.41.1)\n",
            "Requirement already satisfied: requests in /usr/local/lib/python3.6/dist-packages (from emnist) (2.23.0)\n",
            "Requirement already satisfied: certifi>=2017.4.17 in /usr/local/lib/python3.6/dist-packages (from requests->emnist) (2020.12.5)\n",
            "Requirement already satisfied: chardet<4,>=3.0.2 in /usr/local/lib/python3.6/dist-packages (from requests->emnist) (3.0.4)\n",
            "Requirement already satisfied: idna<3,>=2.5 in /usr/local/lib/python3.6/dist-packages (from requests->emnist) (2.10)\n",
            "Requirement already satisfied: urllib3!=1.25.0,!=1.25.1,<1.26,>=1.21.1 in /usr/local/lib/python3.6/dist-packages (from requests->emnist) (1.24.3)\n"
          ],
          "name": "stdout"
        }
      ]
    },
    {
      "cell_type": "code",
      "metadata": {
        "id": "E_qRiAdgtw0S"
      },
      "source": [
        "#from emnist import list_datasets"
      ],
      "execution_count": 48,
      "outputs": []
    },
    {
      "cell_type": "code",
      "metadata": {
        "id": "nzAxKTYdvWcE"
      },
      "source": [
        "#list_datasets()"
      ],
      "execution_count": 49,
      "outputs": []
    },
    {
      "cell_type": "code",
      "metadata": {
        "id": "2r1HxkP8vnks"
      },
      "source": [
        "from emnist import extract_training_samples \n",
        "X_train,y_train = extract_training_samples('byclass')"
      ],
      "execution_count": 50,
      "outputs": []
    },
    {
      "cell_type": "code",
      "metadata": {
        "id": "vhbZ_3pHv-t8"
      },
      "source": [
        "from emnist import extract_test_samples\n",
        "X_test,y_test  = extract_test_samples('byclass')"
      ],
      "execution_count": 51,
      "outputs": []
    },
    {
      "cell_type": "code",
      "metadata": {
        "id": "28EP0JIBwMbY",
        "colab": {
          "base_uri": "https://localhost:8080/"
        },
        "outputId": "fd33ecc5-83eb-4a98-92f7-7b2764d2ea70"
      },
      "source": [
        "print(\"X_train shape: \",X_train.shape)\n",
        "print(\"y_train shape: \",y_train.shape)\n",
        "print(\"X_test shape: \",X_test.shape)\n",
        "print(\"y_test shape: \",y_test.shape)"
      ],
      "execution_count": 52,
      "outputs": [
        {
          "output_type": "stream",
          "text": [
            "X_train shape:  (697932, 28, 28)\n",
            "y_train shape:  (697932,)\n",
            "X_test shape:  (116323, 28, 28)\n",
            "y_test shape:  (116323,)\n"
          ],
          "name": "stdout"
        }
      ]
    },
    {
      "cell_type": "code",
      "metadata": {
        "id": "11jV7PBJwx3D"
      },
      "source": [
        "#In Training Set there are 6,97,932 images of 28 by 28 pixels\n",
        "#In test Set there are 1,16,323 images of 28 by 28 pixels"
      ],
      "execution_count": 53,
      "outputs": []
    },
    {
      "cell_type": "markdown",
      "metadata": {
        "id": "ru_x2rSZ-npa"
      },
      "source": [
        "## Visualization"
      ]
    },
    {
      "cell_type": "code",
      "metadata": {
        "id": "PLdSOjWxwv3r",
        "colab": {
          "base_uri": "https://localhost:8080/",
          "height": 281
        },
        "outputId": "3b14546c-d832-433b-cff6-fd585f94b68d"
      },
      "source": [
        "random_index = np.random.randint(0,697932)\n",
        "\n",
        "print(\"\\t  Label :\",y_train[random_index]) \n",
        "plt.imshow(X_train[random_index], cmap='gray');\n",
        "\n",
        "#by adding ; at the end you don't get that matplotlib line....<matplotlib.image.AxesImage at 0x7fa9f8b04a20>"
      ],
      "execution_count": 54,
      "outputs": [
        {
          "output_type": "stream",
          "text": [
            "\t  Label : 24\n"
          ],
          "name": "stdout"
        },
        {
          "output_type": "display_data",
          "data": {
            "image/png": "[encoded data removed]",
            "text/plain": [
              "<Figure size 432x288 with 1 Axes>"
            ]
          },
          "metadata": {
            "tags": [],
            "needs_background": "light"
          }
        }
      ]
    },
    {
      "cell_type": "code",
      "metadata": {
        "id": "U5cXQQ7TyICX",
        "colab": {
          "base_uri": "https://localhost:8080/",
          "height": 281
        },
        "outputId": "3c9c3796-a02d-4763-abd5-5bf46251df34"
      },
      "source": [
        "random_index = np.random.randint(0,697932)\n",
        "\n",
        "print(\"\\t  Label :\",y_train[random_index]) \n",
        "plt.imshow(X_train[random_index], cmap='gray');"
      ],
      "execution_count": 55,
      "outputs": [
        {
          "output_type": "stream",
          "text": [
            "\t  Label : 28\n"
          ],
          "name": "stdout"
        },
        {
          "output_type": "display_data",
          "data": {
            "image/png": "[encoded data removed]",
            "text/plain": [
              "<Figure size 432x288 with 1 Axes>"
            ]
          },
          "metadata": {
            "tags": [],
            "needs_background": "light"
          }
        }
      ]
    },
    {
      "cell_type": "code",
      "metadata": {
        "id": "lgxcIZUNoExD",
        "colab": {
          "base_uri": "https://localhost:8080/",
          "height": 67
        },
        "outputId": "e04e560b-e345-46c4-c181-7a2a5fb7dd9d"
      },
      "source": [
        "print(\"\\t\\t\\tTABLE\\n\")\n",
        "from IPython.display import Image\n",
        "Image('/content/Images/Table.png')"
      ],
      "execution_count": 56,
      "outputs": [
        {
          "output_type": "stream",
          "text": [
            "\t\t\tTABLE\n",
            "\n"
          ],
          "name": "stdout"
        },
        {
          "output_type": "execute_result",
          "data": {
            "image/png": "/content/Images/Table.png",
            "text/plain": [
              "<IPython.core.display.Image object>"
            ]
          },
          "metadata": {
            "tags": []
          },
          "execution_count": 56
        }
      ]
    },
    {
      "cell_type": "code",
      "metadata": {
        "id": "QXSnD6saCqpF"
      },
      "source": [
        "classes = ['0','1','2','3','4','5','6','7','8','9',\n",
        "             'A','B','C','D','E','F','G','H','I','J','K','L','M','N','O','P','Q','R','S','T','U','V','W','X','Y','Z',\n",
        "             'a','b','c','d','e','f','g','h','i','j','k','l','m','n','o','p','q','r','s','t','u','v','w','x','y','z']"
      ],
      "execution_count": 57,
      "outputs": []
    },
    {
      "cell_type": "code",
      "metadata": {
        "id": "FTpxuWbOCH2i",
        "colab": {
          "base_uri": "https://localhost:8080/",
          "height": 373
        },
        "outputId": "57227ebe-c419-496f-c0a6-7ff6dc1f3471"
      },
      "source": [
        "#Checking Training Examples\n",
        "fig = plt.figure(figsize=(12,7))\n",
        "for i in range(10):\n",
        "  plt.subplot( 2, 5 , i+1)            # 2 rows 5 columns                                                                  \n",
        "  plt.imshow(X_train[i], cmap='gray')  # prints image\n",
        "  plt.yticks([])  #no x and y ticks\n",
        "  plt.xticks([])\n",
        "  index = y_train[i]\n",
        "  plt.title(\"Character: \" + str(classes[index]))      "
      ],
      "execution_count": 58,
      "outputs": [
        {
          "output_type": "display_data",
          "data": {
            "image/png": "[encoded data removed]",
            "text/plain": [
              "<Figure size 864x504 with 10 Axes>"
            ]
          },
          "metadata": {
            "tags": []
          }
        }
      ]
    },
    {
      "cell_type": "markdown",
      "metadata": {
        "id": "4K5nouW9-tjQ"
      },
      "source": [
        "## Reshaping and One Hot Encoding"
      ]
    },
    {
      "cell_type": "code",
      "metadata": {
        "id": "hfgIbUg6zXZe"
      },
      "source": [
        "#We need to reshape our 3D array to 4D array so it can be used with keras\n",
        "X_train = X_train.reshape(X_train.shape[0], 28, 28, 1)\n",
        "X_test = X_test.reshape(X_test.shape[0], 28, 28, 1)"
      ],
      "execution_count": 59,
      "outputs": []
    },
    {
      "cell_type": "code",
      "metadata": {
        "id": "_bogD2V4zzMW",
        "colab": {
          "base_uri": "https://localhost:8080/"
        },
        "outputId": "d70817ee-2cf6-4baf-f356-6e72e1f6e1fc"
      },
      "source": [
        "print(\"X_train shape: \",X_train.shape)\n",
        "print(\"X_test shape: \",X_test.shape)"
      ],
      "execution_count": 60,
      "outputs": [
        {
          "output_type": "stream",
          "text": [
            "X_train shape:  (697932, 28, 28, 1)\n",
            "X_test shape:  (116323, 28, 28, 1)\n"
          ],
          "name": "stdout"
        }
      ]
    },
    {
      "cell_type": "code",
      "metadata": {
        "id": "U1HC6R-Pz6A5"
      },
      "source": [
        "X_train = X_train/255  #normalize inputs from 0-255 to 0-1\n",
        "X_test = X_test/255"
      ],
      "execution_count": 61,
      "outputs": []
    },
    {
      "cell_type": "code",
      "metadata": {
        "id": "QEBHPnxMsj3L",
        "colab": {
          "base_uri": "https://localhost:8080/"
        },
        "outputId": "13c15e2b-4468-4c7c-a10b-29be4a8a8f87"
      },
      "source": [
        "from keras.utils import to_categorical\n",
        "#Keras expects \"one hot\" encoding in multiclass problems for the labels.\n",
        "\n",
        "print(\"Shape of y_train:\",y_train.shape)\n",
        "y_train = to_categorical(y_train)   \n",
        "print(\"New Shape of y_train:\",y_train.shape)\n",
        "print(\"\\n\")\n",
        "print(\"Shape of y_test:\",y_test.shape)\n",
        "y_test = to_categorical(y_test)  \n",
        "print(\"New Shape of y_test:\",y_test.shape)"
      ],
      "execution_count": 62,
      "outputs": [
        {
          "output_type": "stream",
          "text": [
            "Shape of y_train: (697932,)\n",
            "New Shape of y_train: (697932, 62)\n",
            "\n",
            "\n",
            "Shape of y_test: (116323,)\n",
            "New Shape of y_test: (116323, 62)\n"
          ],
          "name": "stdout"
        }
      ]
    },
    {
      "cell_type": "markdown",
      "metadata": {
        "id": "UzdvBG_hsYdE"
      },
      "source": [
        "# **MODEL 0**"
      ]
    },
    {
      "cell_type": "code",
      "metadata": {
        "id": "CmySrdsxs0Cl"
      },
      "source": [
        "# Train loss :     0.26318340681853974\n",
        "# Train accuracy : 0.8959081768989563\n",
        "# Test loss :      0.34020779107309806\n",
        "# Test accuracy :  0.8751665353775024\n",
        "\n",
        "# DIFFERENCES::\n",
        "# LOSS:      0.07703\n",
        "# ACCURACY : 0.0207"
      ],
      "execution_count": 63,
      "outputs": []
    },
    {
      "cell_type": "code",
      "metadata": {
        "id": "XCOA9dX4Nmdl"
      },
      "source": [
        "from keras.layers.convolutional import MaxPooling2D\n",
        "from keras.layers import Dropout"
      ],
      "execution_count": 64,
      "outputs": []
    },
    {
      "cell_type": "code",
      "metadata": {
        "id": "mCn5ESz0Z64i"
      },
      "source": [
        "\n",
        "from tensorflow.keras.callbacks import EarlyStopping"
      ],
      "execution_count": 65,
      "outputs": []
    },
    {
      "cell_type": "code",
      "metadata": {
        "id": "7mufGo4oaESY"
      },
      "source": [
        "es= EarlyStopping(monitor='val_loss',mode='min',patience=2)"
      ],
      "execution_count": 66,
      "outputs": []
    },
    {
      "cell_type": "code",
      "metadata": {
        "id": "_qfl1odyNGmF"
      },
      "source": [
        "model = Sequential()\n",
        "\n",
        "model.add(Conv2D(filters=64, kernel_size=(5,5), padding = 'same', activation='relu',\\\n",
        "                 input_shape=(28, 28,1)))\n",
        "model.add(MaxPooling2D(pool_size=(2,2), strides=(2,2)))\n",
        "model.add(Conv2D(filters=128, kernel_size=(3,3) , padding = 'same', activation='relu'))\n",
        "model.add(MaxPooling2D(pool_size=(2,2)))\n",
        "\n",
        "model.add(Flatten())\n",
        "model.add(Dense(units=512, activation='relu'))\n",
        "model.add(Dropout(.5))\n",
        "model.add(Dense(units=62, activation='softmax'))\n",
        "\n",
        "model.compile(loss='categorical_crossentropy', optimizer='adam', metrics=['accuracy'])"
      ],
      "execution_count": 67,
      "outputs": []
    },
    {
      "cell_type": "code",
      "metadata": {
        "id": "dbGibL8LNbx5",
        "colab": {
          "base_uri": "https://localhost:8080/"
        },
        "outputId": "d958263c-e163-4260-8676-99e182bffab6"
      },
      "source": [
        "history = model.fit(X_train, y_train, epochs=20, batch_size=1024, verbose=1, \\\n",
        "                    validation_data=(X_test, y_test),callbacks=[es])"
      ],
      "execution_count": 68,
      "outputs": [
        {
          "output_type": "stream",
          "text": [
            "Epoch 1/20\n",
            "682/682 [==============================] - 32s 46ms/step - loss: 1.0454 - accuracy: 0.7057 - val_loss: 0.3981 - val_accuracy: 0.8560\n",
            "Epoch 2/20\n",
            "682/682 [==============================] - 31s 45ms/step - loss: 0.4391 - accuracy: 0.8467 - val_loss: 0.3678 - val_accuracy: 0.8644\n",
            "Epoch 3/20\n",
            "682/682 [==============================] - 31s 46ms/step - loss: 0.3987 - accuracy: 0.8560 - val_loss: 0.3576 - val_accuracy: 0.8664\n",
            "Epoch 4/20\n",
            "682/682 [==============================] - 32s 46ms/step - loss: 0.3759 - accuracy: 0.8625 - val_loss: 0.3479 - val_accuracy: 0.8704\n",
            "Epoch 5/20\n",
            "682/682 [==============================] - 32s 47ms/step - loss: 0.3620 - accuracy: 0.8662 - val_loss: 0.3415 - val_accuracy: 0.8722\n",
            "Epoch 6/20\n",
            "682/682 [==============================] - 32s 47ms/step - loss: 0.3508 - accuracy: 0.8696 - val_loss: 0.3382 - val_accuracy: 0.8729\n",
            "Epoch 7/20\n",
            "682/682 [==============================] - 32s 47ms/step - loss: 0.3416 - accuracy: 0.8723 - val_loss: 0.3374 - val_accuracy: 0.8742\n",
            "Epoch 8/20\n",
            "682/682 [==============================] - 32s 47ms/step - loss: 0.3332 - accuracy: 0.8745 - val_loss: 0.3393 - val_accuracy: 0.8734\n",
            "Epoch 9/20\n",
            "682/682 [==============================] - 32s 47ms/step - loss: 0.3252 - accuracy: 0.8767 - val_loss: 0.3345 - val_accuracy: 0.8749\n",
            "Epoch 10/20\n",
            "682/682 [==============================] - 32s 48ms/step - loss: 0.3189 - accuracy: 0.8777 - val_loss: 0.3356 - val_accuracy: 0.8759\n",
            "Epoch 11/20\n",
            "682/682 [==============================] - 32s 48ms/step - loss: 0.3105 - accuracy: 0.8813 - val_loss: 0.3347 - val_accuracy: 0.8757\n"
          ],
          "name": "stdout"
        }
      ]
    },
    {
      "cell_type": "code",
      "metadata": {
        "id": "5rvmzfVAuZtw"
      },
      "source": [
        ""
      ],
      "execution_count": 68,
      "outputs": []
    },
    {
      "cell_type": "code",
      "metadata": {
        "id": "wvOVfGvLuaIx",
        "colab": {
          "base_uri": "https://localhost:8080/"
        },
        "outputId": "d4387203-223d-4761-e48b-0a61b5b5f34c"
      },
      "source": [
        "loss, accuracy = model.evaluate(X_test, y_test, verbose=0)\n",
        "print ('Test loss :', loss )\n",
        "print ('Test accuracy :', accuracy )"
      ],
      "execution_count": 69,
      "outputs": [
        {
          "output_type": "stream",
          "text": [
            "Test loss : 0.33474043011665344\n",
            "Test accuracy : 0.8756909370422363\n"
          ],
          "name": "stdout"
        }
      ]
    },
    {
      "cell_type": "code",
      "metadata": {
        "id": "zFNVhzHJuaI1",
        "colab": {
          "base_uri": "https://localhost:8080/"
        },
        "outputId": "73a73524-3f11-4f6a-bb68-740e66b4ace2"
      },
      "source": [
        "loss1, accuracy1 = model.evaluate(X_train, y_train, verbose=0)\n",
        "print ('Train loss :', loss1 )\n",
        "print ('Train accuracy :', accuracy1 )"
      ],
      "execution_count": 70,
      "outputs": [
        {
          "output_type": "stream",
          "text": [
            "Train loss : 0.26454177498817444\n",
            "Train accuracy : 0.8960858583450317\n"
          ],
          "name": "stdout"
        }
      ]
    },
    {
      "cell_type": "code",
      "metadata": {
        "id": "eW2cgR-XuaI3",
        "colab": {
          "base_uri": "https://localhost:8080/",
          "height": 296
        },
        "outputId": "77d393c8-d7a8-47cc-f6c3-36893e26a38f"
      },
      "source": [
        "import seaborn as sns\n",
        "s = len(history.history['accuracy'])\n",
        "\n",
        "plt.figsize=(10,10)\n",
        "sns.lineplot(x = range(1,1+s),y = history.history['accuracy'], label='Accuracy')\n",
        "sns.lineplot(x = range(1,1+s),y = history.history['val_accuracy'], label='Val_Accuracy')\n",
        "plt.xlabel('Epochs')\n",
        "plt.ylabel('Accuracy')"
      ],
      "execution_count": 71,
      "outputs": [
        {
          "output_type": "execute_result",
          "data": {
            "text/plain": [
              "Text(0, 0.5, 'Accuracy')"
            ]
          },
          "metadata": {
            "tags": []
          },
          "execution_count": 71
        },
        {
          "output_type": "display_data",
          "data": {
            "image/png": "[encoded data removed]",
            "text/plain": [
              "<Figure size 432x288 with 1 Axes>"
            ]
          },
          "metadata": {
            "tags": [],
            "needs_background": "light"
          }
        }
      ]
    },
    {
      "cell_type": "code",
      "metadata": {
        "id": "kPZgUz7CuaI4",
        "colab": {
          "base_uri": "https://localhost:8080/",
          "height": 296
        },
        "outputId": "80b50750-6bd1-41c6-f8d4-683811049a35"
      },
      "source": [
        "s = len(history.history['loss'])\n",
        "\n",
        "plt.figsize=(10,10)\n",
        "sns.lineplot(x = range(1,1+s),y = history.history['loss'], label='Loss')\n",
        "sns.lineplot(x = range(1,1+s),y = history.history['val_loss'], label='Val_Loss')\n",
        "plt.xlabel('Epochs')\n",
        "plt.ylabel('Loss')"
      ],
      "execution_count": 72,
      "outputs": [
        {
          "output_type": "execute_result",
          "data": {
            "text/plain": [
              "Text(0, 0.5, 'Loss')"
            ]
          },
          "metadata": {
            "tags": []
          },
          "execution_count": 72
        },
        {
          "output_type": "display_data",
          "data": {
            "image/png": "[encoded data removed]",
            "text/plain": [
              "<Figure size 432x288 with 1 Axes>"
            ]
          },
          "metadata": {
            "tags": [],
            "needs_background": "light"
          }
        }
      ]
    },
    {
      "cell_type": "code",
      "metadata": {
        "id": "0BYARAot4knH"
      },
      "source": [
        "model_json = model.to_json()\n",
        "with open(\"model.json\", \"w\") as json_file:\n",
        "    json_file.write(model_json)\n",
        "# serialize weights to HDF5\n",
        "model.save_weights(\"model.h5\")"
      ],
      "execution_count": 73,
      "outputs": []
    },
    {
      "cell_type": "markdown",
      "metadata": {
        "id": "ONMaMn6d4nFn"
      },
      "source": [
        "### **Predictions**"
      ]
    },
    {
      "cell_type": "code",
      "metadata": {
        "id": "FEgnQQPf4nFr",
        "colab": {
          "base_uri": "https://localhost:8080/",
          "height": 298
        },
        "outputId": "db7bcf7a-039f-4df0-e0c0-58d6f9ab7653"
      },
      "source": [
        "random_index = np.random.randint(0,116323)\n",
        "plt.imshow(X_test[random_index].reshape(28, 28),cmap='gray')\n",
        "predictions = model.predict(X_test[random_index].reshape(1, 28, 28, 1))\n",
        "index1 =predictions.argmax()\n",
        "print(\"Predicted Label : \"+classes[index1])\n",
        "index = y_test[random_index].argmax()\n",
        "print(\"Actual Label:\"+ classes[index])"
      ],
      "execution_count": 74,
      "outputs": [
        {
          "output_type": "stream",
          "text": [
            "Predicted Label : 3\n",
            "Actual Label:3\n"
          ],
          "name": "stdout"
        },
        {
          "output_type": "display_data",
          "data": {
            "image/png": "[encoded data removed]",
            "text/plain": [
              "<Figure size 432x288 with 1 Axes>"
            ]
          },
          "metadata": {
            "tags": [],
            "needs_background": "light"
          }
        }
      ]
    },
    {
      "cell_type": "code",
      "metadata": {
        "id": "9pusfbsG4nFt",
        "colab": {
          "base_uri": "https://localhost:8080/",
          "height": 298
        },
        "outputId": "e1778ac7-fe80-4936-bb6c-78559bf37806"
      },
      "source": [
        "random_index = np.random.randint(0,116323)\n",
        "plt.imshow(X_test[random_index].reshape(28, 28),cmap='gray')\n",
        "predictions = model.predict(X_test[random_index].reshape(1, 28, 28, 1))\n",
        "index1 =predictions.argmax()\n",
        "print(\"Predicted Label : \"+classes[index1])\n",
        "index = y_test[random_index].argmax()\n",
        "print(\"Actual Label:\"+ classes[index])"
      ],
      "execution_count": 75,
      "outputs": [
        {
          "output_type": "stream",
          "text": [
            "Predicted Label : a\n",
            "Actual Label:a\n"
          ],
          "name": "stdout"
        },
        {
          "output_type": "display_data",
          "data": {
            "image/png": "[encoded data removed]",
            "text/plain": [
              "<Figure size 432x288 with 1 Axes>"
            ]
          },
          "metadata": {
            "tags": [],
            "needs_background": "light"
          }
        }
      ]
    },
    {
      "cell_type": "code",
      "metadata": {
        "id": "aKM46x1o4nFv",
        "colab": {
          "base_uri": "https://localhost:8080/",
          "height": 298
        },
        "outputId": "aaa5f961-2f4d-46b8-a811-42c7fede2760"
      },
      "source": [
        "random_index = np.random.randint(0,116323)\n",
        "plt.imshow(X_test[random_index].reshape(28, 28),cmap='gray')\n",
        "predictions = model.predict(X_test[random_index].reshape(1, 28, 28, 1))\n",
        "index1 =predictions.argmax()\n",
        "print(\"Predicted Label : \"+classes[index1])\n",
        "index = y_test[random_index].argmax()\n",
        "print(\"Actual Label:\"+ classes[index])"
      ],
      "execution_count": 76,
      "outputs": [
        {
          "output_type": "stream",
          "text": [
            "Predicted Label : 8\n",
            "Actual Label:8\n"
          ],
          "name": "stdout"
        },
        {
          "output_type": "display_data",
          "data": {
            "image/png": "[encoded data removed]",
            "text/plain": [
              "<Figure size 432x288 with 1 Axes>"
            ]
          },
          "metadata": {
            "tags": [],
            "needs_background": "light"
          }
        }
      ]
    },
    {
      "cell_type": "code",
      "metadata": {
        "id": "7H8h7GV54nFz",
        "colab": {
          "base_uri": "https://localhost:8080/",
          "height": 966
        },
        "outputId": "87692a3b-445f-4bdd-bd72-24284e9a539b"
      },
      "source": [
        "fig = plt.figure(figsize=(10,17))\n",
        "for i in range(12):\n",
        "  plt.subplot(4 , 3 , i+1)            # 2 rows 5 columns                                                                  \n",
        "  plt.imshow(X_test[i].reshape(28,28), cmap='gray')  # prints image\n",
        "  predictions = model.predict(X_test[i].reshape(1, 28, 28, 1))\n",
        "  index1 =predictions.argmax()\n",
        "  index2 = y_test[i].argmax()\n",
        "  plt.title(\"Predicted Character : \"+classes[index1]\n",
        "            +\"\\n\"+\"Actual Character: \"+ classes[index2])\n",
        "  \n"
      ],
      "execution_count": 77,
      "outputs": [
        {
          "output_type": "display_data",
          "data": {
            "image/png": "[encoded data removed]",
            "text/plain": [
              "<Figure size 720x1224 with 12 Axes>"
            ]
          },
          "metadata": {
            "tags": [],
            "needs_background": "light"
          }
        }
      ]
    },
    {
      "cell_type": "code",
      "metadata": {
        "id": "rWf_hUB1CtSv"
      },
      "source": [
        ""
      ],
      "execution_count": 77,
      "outputs": []
    }
  ]
}