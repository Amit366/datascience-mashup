{
 "cells": [
  {
   "cell_type": "code",
   "execution_count": null,
   "metadata": {},
   "outputs": [],
   "source": [
    "import matplotlib\n",
    "import matplotlib.pyplot as plt\n",
    "import matplotlib.style as style\n",
    "import numpy as np\n",
    "import pandas as pd\n",
    "import plotly.express as px\n",
    "import seaborn as sns\n",
    "from scipy import stats\n",
    "import warnings\n",
    "warnings.filterwarnings(\"ignore\")"
   ]
  },
  {
   "cell_type": "code",
   "execution_count": null,
   "metadata": {},
   "outputs": [],
   "source": [
    "data = pd.read_csv('./train-data.csv') \n",
    "test = pd.read_csv('./test-data.csv')"
   ]
  },
  {
   "cell_type": "code",
   "execution_count": null,
   "metadata": {},
   "outputs": [],
   "source": [
    "from lightgbm import LGBMClassifier\n",
    "from sklearn import metrics\n",
    "from sklearn import model_selection\n",
    "from sklearn import preprocessing\n",
    "from sklearn.datasets import make_classification\n",
    "from sklearn.ensemble import ExtraTreesRegressor\n",
    "from sklearn.ensemble import GradientBoostingClassifier\n",
    "from sklearn.ensemble import GradientBoostingRegressor\n",
    "from sklearn.ensemble import RandomForestClassifier\n",
    "from sklearn.ensemble import RandomForestRegressor\n",
    "from sklearn.linear_model import LogisticRegression\n",
    "from sklearn.linear_model import Ridge\n",
    "from sklearn.metrics import accuracy_score\n",
    "from sklearn.metrics import classification_report, confusion_matrix\n",
    "from sklearn.metrics import mean_squared_error\n",
    "from sklearn.metrics import mean_squared_error, mean_absolute_error\n",
    "from sklearn.metrics import plot_confusion_matrix\n",
    "from sklearn.model_selection import cross_val_score\n",
    "from sklearn.model_selection import train_test_split\n",
    "from sklearn.naive_bayes import GaussianNB\n",
    "from sklearn.neighbors import KNeighborsClassifier\n",
    "from sklearn.neighbors import KNeighborsRegressor\n",
    "from sklearn.preprocessing import StandardScaler, Normalizer\n",
    "from sklearn.tree import DecisionTreeClassifier\n",
    "from sklearn.tree import DecisionTreeRegressor\n",
    "from xgboost import XGBClassifier\n",
    "from xgboost.sklearn import XGBRegressor\n",
    "\n",
    "from sklearn.ensemble import GradientBoostingRegressor,AdaBoostRegressor,BaggingRegressor, RandomForestRegressor\n",
    "from sklearn.neural_network import MLPRegressor\n",
    "import xgboost as xgb"
   ]
  },
  {
   "cell_type": "code",
   "execution_count": null,
   "metadata": {},
   "outputs": [],
   "source": [
    "data.isnull().sum()"
   ]
  },
  {
   "cell_type": "code",
   "execution_count": null,
   "metadata": {},
   "outputs": [],
   "source": [
    "test.isnull().sum()"
   ]
  },
  {
   "cell_type": "code",
   "execution_count": null,
   "metadata": {},
   "outputs": [],
   "source": [
    "data = data.drop('New_Price', axis=1)\n",
    "data = data.drop('Unnamed: 0', axis=1)\n",
    "\n",
    "test = test.drop('New_Price', axis=1)\n",
    "test = test.drop('Unnamed: 0', axis=1)"
   ]
  },
  {
   "cell_type": "code",
   "execution_count": null,
   "metadata": {},
   "outputs": [],
   "source": [
    "data = data.dropna(how='any')\n",
    "test = test.dropna(how='any')"
   ]
  },
  {
   "cell_type": "code",
   "execution_count": null,
   "metadata": {},
   "outputs": [],
   "source": [
    "data.shape"
   ]
  },
  {
   "cell_type": "code",
   "execution_count": null,
   "metadata": {},
   "outputs": [],
   "source": [
    "test.shape"
   ]
  },
  {
   "cell_type": "code",
   "execution_count": null,
   "metadata": {},
   "outputs": [],
   "source": [
    "listtrain = data['Name']\n",
    "listtest = test['Name']\n",
    "  \n",
    "# prints the missing in listrain \n",
    "print(\"Missing values in first list:\", (set(listtest).difference(listtrain))) "
   ]
  },
  {
   "cell_type": "code",
   "execution_count": null,
   "metadata": {},
   "outputs": [],
   "source": [
    "data['Cars'] = data['Name'].str.split(\" \").str[0] + ' ' +data['Name'].str.split(\" \").str[1]\n",
    "test['Cars'] = test['Name'].str.split(\" \").str[0] + ' ' +test['Name'].str.split(\" \").str[1]"
   ]
  },
  {
   "cell_type": "code",
   "execution_count": null,
   "metadata": {},
   "outputs": [],
   "source": [
    "set(test['Cars']).issubset(set(data['Cars']))"
   ]
  },
  {
   "cell_type": "code",
   "execution_count": null,
   "metadata": {},
   "outputs": [],
   "source": [
    "listtrain = data['Cars']\n",
    "listtest = test['Cars']\n",
    "  \n",
    "# prints the missing and additional elements in list1 \n",
    "print(\"Missing values in first list:\", (set(listtest).difference(listtrain))) "
   ]
  },
  {
   "cell_type": "code",
   "execution_count": null,
   "metadata": {},
   "outputs": [],
   "source": [
    "test.drop(test[test['Cars'].isin(['Toyota Land', 'Hindustan Motors', 'Fiat Abarth', 'Nissan 370Z', \n",
    "                                  'Isuzu MU', 'Bentley Flying', 'OpelCorsa 1.4Gsi'])].index, inplace = True)"
   ]
  },
  {
   "cell_type": "code",
   "execution_count": null,
   "metadata": {},
   "outputs": [],
   "source": [
    "test.shape"
   ]
  },
  {
   "cell_type": "code",
   "execution_count": null,
   "metadata": {},
   "outputs": [],
   "source": [
    "listtrain = data['Cars']\n",
    "listtest = test['Cars']\n",
    "  \n",
    "# prints the missing and additional elements in list1 \n",
    "print(\"Missing values in first list:\", (set(listtest).difference(listtrain))) "
   ]
  },
  {
   "cell_type": "code",
   "execution_count": null,
   "metadata": {},
   "outputs": [],
   "source": [
    "test.drop(test[test['Cars'].isin(['Toyota Land', 'Hindustan Motors', 'Fiat Abarth', 'Nissan 370Z', \n",
    "                                  'Isuzu MU', 'Bentley Flying', 'OpelCorsa 1.4Gsi'])].index, inplace = True)"
   ]
  },
  {
   "cell_type": "code",
   "execution_count": null,
   "metadata": {},
   "outputs": [],
   "source": [
    "test.shape"
   ]
  },
  {
   "cell_type": "code",
   "execution_count": null,
   "metadata": {},
   "outputs": [],
   "source": [
    "listtrain = data['Cars']\n",
    "listtest = test['Cars']\n",
    "  \n",
    "# prints the missing and additional elements in list1 \n",
    "print(\"Missing values in first list:\", (set(listtest).difference(listtrain))) "
   ]
  },
  {
   "cell_type": "code",
   "execution_count": null,
   "metadata": {},
   "outputs": [],
   "source": [
    "data.head(3)"
   ]
  },
  {
   "cell_type": "code",
   "execution_count": null,
   "metadata": {},
   "outputs": [],
   "source": [
    "data['Mileage'] = data['Mileage'].str.replace(' kmpl','')\n",
    "data['Mileage'] = data['Mileage'].str.replace(' km/kg','')\n",
    "data['Engine'] = data['Engine'].str.replace(' CC','')\n",
    "data['Power'] = data['Power'].str.replace('null bhp','112')\n",
    "data['Power'] = data['Power'].str.replace(' bhp','')\n",
    "\n",
    "test['Mileage'] = test['Mileage'].str.replace(' kmpl','')\n",
    "test['Mileage'] = test['Mileage'].str.replace(' km/kg','')\n",
    "test['Engine'] = test['Engine'].str.replace(' CC','')\n",
    "test['Power'] = test['Power'].str.replace('null bhp','112')\n",
    "test['Power'] = test['Power'].str.replace(' bhp','')"
   ]
  },
  {
   "cell_type": "code",
   "execution_count": null,
   "metadata": {},
   "outputs": [],
   "source": [
    "data.isnull().sum()"
   ]
  },
  {
   "cell_type": "code",
   "execution_count": null,
   "metadata": {},
   "outputs": [],
   "source": [
    "test.isnull().sum()"
   ]
  },
  {
   "cell_type": "code",
   "execution_count": null,
   "metadata": {},
   "outputs": [],
   "source": [
    "data.dtypes"
   ]
  },
  {
   "cell_type": "code",
   "execution_count": null,
   "metadata": {},
   "outputs": [],
   "source": [
    "data['Mileage'] = data['Mileage'].astype(float)\n",
    "data['Mileage'] = data['Mileage'].astype(float)\n",
    "data['Engine'] = data['Engine'].astype(float)\n",
    "data['Power'] = data['Power'].astype(float)\n",
    "\n",
    "test['Mileage'] = test['Mileage'].astype(float)\n",
    "test['Mileage'] = test['Mileage'].astype(float)\n",
    "test['Engine'] = test['Engine'].astype(float)\n",
    "test['Power'] = test['Power'].astype(float)\n"
   ]
  },
  {
   "cell_type": "code",
   "execution_count": null,
   "metadata": {},
   "outputs": [],
   "source": [
    "data.describe()"
   ]
  },
  {
   "cell_type": "code",
   "execution_count": null,
   "metadata": {},
   "outputs": [],
   "source": [
    "feature = ['Cars', 'Location', 'Year', 'Kilometers_Driven', 'Fuel_Type', 'Transmission', \n",
    "           'Owner_Type', 'Mileage', 'Engine', 'Power', 'Seats','Price']\n",
    "data = pd.DataFrame(data, columns=feature)\n",
    "\n",
    "feature1 = ['Cars', 'Location', 'Year', 'Kilometers_Driven', 'Fuel_Type', 'Transmission', \n",
    "            'Owner_Type', 'Mileage', 'Engine', 'Power', 'Seats']\n",
    "test = pd.DataFrame(test, columns=feature1)"
   ]
  },
  {
   "cell_type": "code",
   "execution_count": null,
   "metadata": {},
   "outputs": [],
   "source": [
    "data.head(3)"
   ]
  },
  {
   "cell_type": "code",
   "execution_count": null,
   "metadata": {},
   "outputs": [],
   "source": [
    "sns.distplot(data['Price'])\n",
    "\n",
    "print(\"Skewness: %f\" % data['Price'].skew())\n",
    "print(\"Kurtosis: %f\" % data['Price'].kurt())"
   ]
  },
  {
   "cell_type": "code",
   "execution_count": null,
   "metadata": {},
   "outputs": [],
   "source": [
    "#applying log transformation\n",
    "data['Price'] = np.log(data['Price'])\n",
    "#transformed histogram and normal probability plot\n",
    "#sns.distplot(data['Price']);\n",
    "sns.distplot(data['Price'], fit=None);\n",
    "fig = plt.figure()\n",
    "res = stats.probplot(data['Price'], plot=plt)"
   ]
  },
  {
   "cell_type": "markdown",
   "metadata": {},
   "source": [
    "RELATIONSHIP OF PRICE WITH OTHER PARAMETER"
   ]
  },
  {
   "cell_type": "code",
   "execution_count": null,
   "metadata": {},
   "outputs": [],
   "source": [
    "# Find most important features relative to target Price\n",
    "print(\"Find most important features relative to Price-target\")\n",
    "corr = data.corr()\n",
    "corr.sort_values([\"Price\"], ascending = False, inplace = True)\n",
    "print(corr.Price)"
   ]
  },
  {
   "cell_type": "code",
   "execution_count": null,
   "metadata": {},
   "outputs": [],
   "source": [
    "px.treemap(data.groupby(by='Fuel_Type').sum().reset_index(), path=['Fuel_Type'], labels='Fuel_Type', \n",
    "           values='Price', title='Price vs Fuel_type')"
   ]
  },
  {
   "cell_type": "code",
   "execution_count": null,
   "metadata": {},
   "outputs": [],
   "source": [
    "yprop = 'Price'\n",
    "xprop = 'Power'\n",
    "h= 'Fuel_Type'\n",
    "px.scatter(data, x=xprop, y=yprop, color=h, marginal_y=\"violin\", marginal_x=\"box\", trendline=\"ols\", template=\"simple_white\")"
   ]
  },
  {
   "cell_type": "code",
   "execution_count": null,
   "metadata": {},
   "outputs": [],
   "source": [
    "plt.figure(figsize=(15,10))\n",
    "xprop = 'Year'\n",
    "yprop = 'Price'\n",
    "sns.boxplot(data=data, x=xprop, y=yprop, hue='Transmission')\n",
    "plt.xlabel('{} range'.format(xprop), size=14)\n",
    "plt.ylabel('Number of {}'.format(yprop), size=14)\n",
    "plt.title('Boxplot of {}'.format(yprop), size=20)\n",
    "plt.show()"
   ]
  },
  {
   "cell_type": "code",
   "execution_count": null,
   "metadata": {},
   "outputs": [],
   "source": [
    "yprop = 'Price'\n",
    "xprop = 'Year'\n",
    "h= 'Owner_Type'\n",
    "px.scatter(data, x=xprop, y=yprop, color=h, marginal_y=\"violin\", marginal_x=\"box\", trendline=\"ols\", template=\"simple_white\")\n",
    "#fig.update_layout(xaxis_range=[0,5e5])"
   ]
  },
  {
   "cell_type": "code",
   "execution_count": null,
   "metadata": {},
   "outputs": [],
   "source": [
    "plt.figure(figsize=(15,10))\n",
    "xprop = 'Year'\n",
    "yprop = 'Price'\n",
    "sns.boxplot(data=data, x=xprop, y=yprop, hue='Fuel_Type')\n",
    "plt.xlabel('{} range'.format(xprop), size=14)\n",
    "plt.ylabel('Number of {}'.format(yprop), size=14)\n",
    "plt.title('Boxplot of {}'.format(yprop), size=20)\n",
    "plt.show()"
   ]
  },
  {
   "cell_type": "code",
   "execution_count": null,
   "metadata": {},
   "outputs": [],
   "source": [
    "fig = px.box(data, x='Fuel_Type',y='Price', color='Transmission', notched=True)\n",
    "fig.update_layout(legend=dict(orientation=\"h\",yanchor=\"bottom\",y=1.02,xanchor=\"right\",x=1))\n",
    "fig.show()"
   ]
  },
  {
   "cell_type": "code",
   "execution_count": null,
   "metadata": {},
   "outputs": [],
   "source": [
    "px.violin(data, y='Price', x='Seats', color=None, box=True, points=\"all\", hover_data=data.columns)"
   ]
  },
  {
   "cell_type": "code",
   "execution_count": null,
   "metadata": {},
   "outputs": [],
   "source": [
    "import plotly.graph_objects as go\n",
    "fig = go.Figure(data=[go.Pie(labels=data['Fuel_Type'], values=data['Price'], hole=.3)])\n",
    "fig.update_layout(legend=dict(orientation=\"h\", yanchor=\"bottom\",y=1.02,xanchor=\"right\",x=1))\n",
    "fig.show()"
   ]
  },
  {
   "cell_type": "markdown",
   "metadata": {},
   "source": [
    "IV. MODEL DESCRIPTION"
   ]
  },
  {
   "cell_type": "code",
   "execution_count": null,
   "metadata": {},
   "outputs": [],
   "source": [
    "import copy\n",
    "df_train=copy.deepcopy(data)\n",
    "df_test=copy.deepcopy(test)\n",
    "\n",
    "cols=np.array(data.columns[data.dtypes != object])\n",
    "for i in df_train.columns:\n",
    "    if i not in cols:\n",
    "        df_train[i]=df_train[i].map(str)\n",
    "        df_test[i]=df_test[i].map(str)\n",
    "df_train.drop(columns=cols,inplace=True)\n",
    "df_test.drop(columns=np.delete(cols,len(cols)-1),inplace=True)"
   ]
  },
  {
   "cell_type": "code",
   "execution_count": null,
   "metadata": {},
   "outputs": [],
   "source": [
    "from sklearn.preprocessing import LabelEncoder\n",
    "from collections import defaultdict\n",
    "\n",
    "# build dictionary function\n",
    "cols=np.array(data.columns[data.dtypes != object])\n",
    "d = defaultdict(LabelEncoder)\n",
    "\n",
    "# only for categorical columns apply dictionary by calling fit_transform \n",
    "df_train = df_train.apply(lambda x: d[x.name].fit_transform(x))\n",
    "df_test = df_test.apply(lambda x: d[x.name].transform(x))\n",
    "df_train[cols] = data[cols]\n",
    "df_test[np.delete(cols,len(cols)-1)]=test[np.delete(cols,len(cols)-1)]"
   ]
  },
  {
   "cell_type": "code",
   "execution_count": null,
   "metadata": {},
   "outputs": [],
   "source": [
    "df_test.head(2)"
   ]
  },
  {
   "cell_type": "code",
   "execution_count": null,
   "metadata": {},
   "outputs": [],
   "source": [
    "df_train.head(2)"
   ]
  },
  {
   "cell_type": "markdown",
   "metadata": {},
   "source": [
    "B. Training and Testing"
   ]
  },
  {
   "cell_type": "code",
   "execution_count": null,
   "metadata": {},
   "outputs": [],
   "source": [
    "ftrain = ['Cars', 'Location', 'Year', 'Kilometers_Driven', 'Fuel_Type', 'Transmission', \n",
    "          'Owner_Type', 'Mileage', 'Engine', 'Power', 'Seats','Price']\n",
    "\n",
    "def Definedata():\n",
    "    # define dataset\n",
    "    data2 = df_train[ftrain]\n",
    "    X = data2.drop(columns=['Price']).values\n",
    "    y0 = data2['Price'].values\n",
    "    lab_enc = preprocessing.LabelEncoder()\n",
    "    y = lab_enc.fit_transform(y0)\n",
    "    return X, y"
   ]
  },
  {
   "cell_type": "code",
   "execution_count": null,
   "metadata": {},
   "outputs": [],
   "source": [
    " def Models(models):\n",
    "        \n",
    "    model = models\n",
    "    X, y = Definedata()\n",
    "    X_train, X_test, y_train, y_test = train_test_split(X, y, test_size = 0.33, random_state = 25)\n",
    "    model.fit(X_train,y_train)\n",
    "    y_pred = model.predict(X_test)\n",
    "    y_total = model.predict(X)\n",
    "    \n",
    "    print(\"\\t\\tError Table\")\n",
    "    print('Mean Absolute Error      : ', metrics.mean_absolute_error(y_test, y_pred))\n",
    "    print('Mean Squared  Error      : ', metrics.mean_squared_error(y_test, y_pred))\n",
    "    print('Root Mean Squared  Error : ', np.sqrt(metrics.mean_squared_error(y_test, y_pred)))\n",
    "    print('Accuracy on Traing set   : ', model.score(X_train,y_train))\n",
    "    print('Accuracy on Testing set  : ', model.score(X_test,y_test))\n",
    "    return y_total, y\n",
    "\n",
    "def Featureimportances(models):\n",
    "    model = models\n",
    "    model.fit(X_train,y_train)\n",
    "    importances = model.feature_importances_\n",
    "    features = df_test.columns[:9]\n",
    "    imp = pd.DataFrame({'Features': ftest, 'Importance': importances})\n",
    "    imp['Sum Importance'] = imp['Importance'].cumsum()\n",
    "    imp = imp.sort_values(by = 'Importance')\n",
    "    return imp\n",
    "\n",
    "def Graph_prediction(n, y_actual, y_predicted):\n",
    "    y = y_actual\n",
    "    y_total = y_predicted\n",
    "    number = n\n",
    "    aa=[x for x in range(number)]\n",
    "    plt.figure(figsize=(25,10)) \n",
    "    plt.plot(aa, y[:number], marker='.', label=\"actual\")\n",
    "    plt.plot(aa, y_total[:number], 'b', label=\"prediction\")\n",
    "    plt.xlabel('Price prediction of first {} used cars'.format(number), size=15)\n",
    "    plt.legend(fontsize=15)\n",
    "    plt.show()"
   ]
  },
  {
   "cell_type": "code",
   "execution_count": null,
   "metadata": {},
   "outputs": [],
   "source": [
    "style.use('ggplot')\n",
    "sns.set_style('whitegrid')\n",
    "plt.subplots(figsize = (12,7))\n",
    "## Plotting heatmap. # Generate a mask for the upper triangle (taken from seaborn example gallery)\n",
    "mask = np.zeros_like(df_train.corr(), dtype=np.bool)\n",
    "mask[np.triu_indices_from(mask)] = True\n",
    "sns.heatmap(df_train.corr(), cmap=sns.diverging_palette(20, 220, n=200), annot=True, mask=mask, center = 0, );\n",
    "plt.title(\"Heatmap of all the Features of Train data set\", fontsize = 25);"
   ]
  },
  {
   "cell_type": "markdown",
   "metadata": {},
   "source": [
    "C. Models comparison"
   ]
  },
  {
   "cell_type": "code",
   "execution_count": null,
   "metadata": {},
   "outputs": [],
   "source": [
    "Acc = pd.DataFrame(index=None, columns=['model','Root Mean Squared  Error','Accuracy on Traing set','Accuracy on Testing set'])"
   ]
  },
  {
   "cell_type": "code",
   "execution_count": null,
   "metadata": {},
   "outputs": [],
   "source": [
    "X, y = Definedata()\n",
    "X_train, X_test, y_train, y_test = train_test_split(X, y, test_size = 0.33, random_state = 25)\n",
    "    \n",
    "regressors = [['DecisionTreeRegressor',DecisionTreeRegressor()],\n",
    "              ['XGBRegressor', XGBRegressor()],\n",
    "              ['RandomForestRegressor', RandomForestRegressor()],\n",
    "              ['MLPRegressor',MLPRegressor()],\n",
    "              ['AdaBoostRegressor',AdaBoostRegressor()],\n",
    "              ['ExtraTreesRegressor',ExtraTreesRegressor()]]\n",
    "\n",
    "for mod in regressors:\n",
    "    name = mod[0]\n",
    "    model = mod[1]\n",
    "    model.fit(X_train,y_train)\n",
    "    y_pred = model.predict(X_test)\n",
    "    \n",
    "    RMSE = np.sqrt(metrics.mean_squared_error(y_test, y_pred))\n",
    "    ATrS =  model.score(X_train,y_train)\n",
    "    ATeS = model.score(X_test,y_test)\n",
    "    \n",
    "    Acc = Acc.append(pd.Series({'model':name, 'Root Mean Squared  Error': RMSE,'Accuracy on Traing set':ATrS,'Accuracy on Testing set':ATeS}),ignore_index=True )"
   ]
  },
  {
   "cell_type": "code",
   "execution_count": null,
   "metadata": {},
   "outputs": [],
   "source": [
    "Acc.sort_values(by='Accuracy on Testing set')"
   ]
  },
  {
   "cell_type": "code",
   "execution_count": null,
   "metadata": {},
   "outputs": [],
   "source": [
    "y_predicted, y_actual = Models(RandomForestRegressor(n_estimators=10000,min_samples_split=2,min_samples_leaf=1,max_features='sqrt',max_depth=25))\n",
    "Graph_prediction(150, y_actual, y_predicted)"
   ]
  },
  {
   "cell_type": "code",
   "execution_count": null,
   "metadata": {},
   "outputs": [],
   "source": [
    "y_predicted, y_actual = Models(GradientBoostingRegressor(random_state=21, n_estimators=3000))\n",
    "Graph_prediction(150, y_actual, y_predicted)"
   ]
  },
  {
   "cell_type": "code",
   "execution_count": null,
   "metadata": {},
   "outputs": [],
   "source": [
    "compare = pd.DataFrame({'Prediction': y_predicted, 'Test Data' : y_actual, 'Abs error': abs(y_actual - y_predicted), 'AAD%': abs(y_actual - y_predicted)/y_actual*100})\n",
    "compare.head(10)"
   ]
  },
  {
   "cell_type": "code",
   "execution_count": null,
   "metadata": {},
   "outputs": [],
   "source": [
    "model = GradientBoostingRegressor(random_state=21, n_estimators=5000)\n",
    "feature1 = ['Cars', 'Location', 'Year', 'Kilometers_Driven', 'Fuel_Type', 'Transmission', \n",
    "            'Owner_Type', 'Mileage', 'Engine', 'Power', 'Seats']\n",
    "\n",
    "X0 = df_test[feature1]\n",
    "X, y = Definedata()\n",
    "X_train, X_test, y_train, y_test = train_test_split(X, y, test_size = 0.25, random_state = 25)\n",
    "model.fit(X_train,y_train)\n",
    "y_predicted = model.predict(X0)\n",
    "\n",
    "submission = pd.DataFrame({'Car_id':test.index,'Price':y_predicted}) \n",
    "submission.head(10)"
   ]
  },
  {
   "cell_type": "code",
   "execution_count": null,
   "metadata": {},
   "outputs": [],
   "source": [
    "#Convert DataFrame to a csv file that can be uploaded\n",
    "#This is saved in the same directory as your notebook\n",
    "filename = 'submission.csv'\n",
    "\n",
    "submission.to_csv(filename,index=True)\n",
    "\n",
    "print('Saved file: ' + filename)"
   ]
  },
  {
   "cell_type": "code",
   "execution_count": null,
   "metadata": {},
   "outputs": [],
   "source": []
  }
 ],
 "metadata": {
  "kernelspec": {
   "display_name": "Python 3",
   "language": "python",
   "name": "python3"
  },
  "language_info": {
   "codemirror_mode": {
    "name": "ipython",
    "version": 3
   },
   "file_extension": ".py",
   "mimetype": "text/x-python",
   "name": "python",
   "nbconvert_exporter": "python",
   "pygments_lexer": "ipython3",
   "version": "3.7.7"
  }
 },
 "nbformat": 4,
 "nbformat_minor": 2
}
