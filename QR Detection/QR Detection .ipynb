{
 "cells": [
  {
   "cell_type": "code",
   "execution_count": null,
   "id": "representative-devices",
   "metadata": {},
   "outputs": [],
   "source": [
    "path = \"C:\\\\Users\\\\trusha\\\\Desktop\\\\test.png\""
   ]
  },
  {
   "cell_type": "code",
   "execution_count": null,
   "id": "planned-authentication",
   "metadata": {},
   "outputs": [],
   "source": [
    "!pip install pyzbar"
   ]
  },
  {
   "cell_type": "code",
   "execution_count": null,
   "id": "addressed-comedy",
   "metadata": {
    "scrolled": true
   },
   "outputs": [],
   "source": [
    "!pip install opencv-python"
   ]
  },
  {
   "cell_type": "code",
   "execution_count": null,
   "id": "wrong-riverside",
   "metadata": {},
   "outputs": [],
   "source": [
    "import cv2 \n",
    "from pyzbar import pyzbar"
   ]
  },
  {
   "cell_type": "code",
   "execution_count": null,
   "id": "outstanding-proportion",
   "metadata": {},
   "outputs": [],
   "source": [
    "img = cv2.imread(path)\n",
    "cv2.imshow(\"img\",img)\n",
    "cv2.waitKey(0)\n",
    "cv2.destroyAllWindows()"
   ]
  },
  {
   "cell_type": "code",
   "execution_count": null,
   "id": "vital-georgia",
   "metadata": {},
   "outputs": [],
   "source": [
    "barcodes = pyzbar.decode(img)"
   ]
  },
  {
   "cell_type": "code",
   "execution_count": null,
   "id": "involved-child",
   "metadata": {},
   "outputs": [],
   "source": [
    "for barcode in barcodes:\n",
    "    x,y,w,h = barcode.rect # position of rectangle\n",
    "#     print(x,y,w,h)\n",
    "    cv2.rectangle(img,(x,y),(x+w,y+h),(0,0,255),4)\n",
    "    data = barcode.data.decode(\"utf-8\")\n",
    "    type_of_barcode = barcode.type\n",
    "    text = f\"{data},{type_of_barcode}\"\n",
    "#     print(text)\n",
    "    cv2.putText(img,str(text),(x-120,y+h+10), cv2.FONT_HERSHEY_SIMPLEX,0.5,(0,255,0),2) #text above the rectangle containing barcode\n",
    "\n",
    "cv2.imshow(\"img\",img)\n",
    "cv2.waitKey(0)\n",
    "cv2.destroyAllWindows() \n",
    "    \n",
    "    \n",
    "    "
   ]
  }
 ],
 "metadata": {
  "kernelspec": {
   "display_name": "Python 3",
   "language": "python",
   "name": "python3"
  },
  "language_info": {
   "codemirror_mode": {
    "name": "ipython",
    "version": 3
   },
   "file_extension": ".py",
   "mimetype": "text/x-python",
   "name": "python",
   "nbconvert_exporter": "python",
   "pygments_lexer": "ipython3",
   "version": "3.7.9"
  }
 },
 "nbformat": 4,
 "nbformat_minor": 5
}